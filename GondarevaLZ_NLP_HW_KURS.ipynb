{
 "cells": [
  {
   "cell_type": "markdown",
   "metadata": {
    "id": "Nm879y0rK0Bw"
   },
   "source": [
    "#CHAT-BOT\n",
    "\n",
    "#Описание бота: \n",
    "В боте четыре интента:\n",
    "\n",
    "1.   Болталка на базе файла ответов mail.ru\n",
    "2.   Генерация рецептов с помощью fine-tuned GPT\n",
    "3.   Сообщает время\n",
    "4.   На \"спасибо\" отвечает \"Рад был помочь!\"\n",
    "\n",
    "Классификация интентов реализована с помощью алгоритма CatBoost и по ключевым словам в случае со временем и \"спасибо\".\n",
    "\n",
    "GPT2 дообучена на рецептах с kaggle\n",
    "\n",
    "В болталке используется FastText и ближайшее векторное расстояние"
   ]
  },
  {
   "cell_type": "code",
   "execution_count": null,
   "metadata": {
    "id": "X0Up4y8skknZ"
   },
   "outputs": [],
   "source": [
    "!pip install python-telegram-bot --upgrade #restart needed"
   ]
  },
  {
   "cell_type": "code",
   "execution_count": null,
   "metadata": {
    "id": "ZZxPPOxjkpmp"
   },
   "outputs": [],
   "source": [
    "!pip install pymorphy2 stop_words annoy"
   ]
  },
  {
   "cell_type": "code",
   "execution_count": null,
   "metadata": {
    "id": "feMwDe8aCtPB"
   },
   "outputs": [],
   "source": [
    "import os\n",
    "from telegram.ext  import Updater, CommandHandler, MessageHandler, Filters\n",
    "import string\n",
    "from pymorphy2 import MorphAnalyzer\n",
    "from stop_words import get_stop_words\n",
    "import annoy\n",
    "from gensim.models import Word2Vec, FastText\n",
    "import pickle\n",
    "import numpy as np\n",
    "from tqdm import tqdm_notebook\n",
    "import pandas as pd"
   ]
  },
  {
   "cell_type": "markdown",
   "metadata": {
    "id": "dRncZzbhnYkM"
   },
   "source": [
    "Загрузка файлов данных"
   ]
  },
  {
   "cell_type": "code",
   "execution_count": null,
   "metadata": {
    "colab": {
     "base_uri": "https://localhost:8080/"
    },
    "id": "USFF1zNguX6d",
    "outputId": "19da9729-6f60-41be-9211-788d398337ec"
   },
   "outputs": [
    {
     "name": "stdout",
     "output_type": "stream",
     "text": [
      "Mounted at /content/drive\n"
     ]
    }
   ],
   "source": [
    "from google.colab import drive\n",
    "drive.mount('/content/drive')"
   ]
  },
  {
   "cell_type": "code",
   "execution_count": null,
   "metadata": {
    "id": "YlIDA_gFulao"
   },
   "outputs": [],
   "source": [
    "PATH = '/content/drive/MyDrive/GB_NLP_04_2022/15 bot/answers.txt'"
   ]
  },
  {
   "cell_type": "markdown",
   "metadata": {
    "id": "EV5FsASJN_GE"
   },
   "source": [
    "# Подготовка данный и обучение модели FASTTEXT для болталки"
   ]
  },
  {
   "cell_type": "code",
   "execution_count": null,
   "metadata": {
    "colab": {
     "base_uri": "https://localhost:8080/",
     "height": 103,
     "referenced_widgets": [
      "3781d9c0c55f4f5892fd7296bb9428f5",
      "a4b50fff6dbd4ee2b739596fdcabefb1",
      "62a854f6690b4d649415891d8dbccaca",
      "1ecd61e01f29404a80c406baf3c06891",
      "f2322dc0bda64b2a997e0b7cfa69bdf5",
      "91bc20e02b9a4d5a9ca70229addcb176",
      "dacff699054948b880c6f474b79c45ab",
      "75d674df9dea4fba9536ee7282d14a89",
      "815686a4818d45cab75bbd9acc2263f7",
      "bd0dd4ad223440819f6e3eeb3abbbe6a",
      "7ed108833e8145d08e1c2e28a9ecc8d6"
     ]
    },
    "id": "5KMDwiXbCtPH",
    "outputId": "286b40b5-b7b3-42e3-df6e-be4ac44cf4a2"
   },
   "outputs": [
    {
     "name": "stderr",
     "output_type": "stream",
     "text": [
      "/usr/local/lib/python3.7/dist-packages/ipykernel_launcher.py:10: TqdmDeprecationWarning: This function will be removed in tqdm==5.0.0\n",
      "Please use `tqdm.notebook.tqdm` instead of `tqdm.tqdm_notebook`\n",
      "  # Remove the CWD from sys.path while we load stuff.\n"
     ]
    },
    {
     "data": {
      "application/vnd.jupyter.widget-view+json": {
       "model_id": "3781d9c0c55f4f5892fd7296bb9428f5",
       "version_major": 2,
       "version_minor": 0
      },
      "text/plain": [
       "0it [00:00, ?it/s]"
      ]
     },
     "metadata": {},
     "output_type": "display_data"
    }
   ],
   "source": [
    "assert True\n",
    "\n",
    "#Small preprocess of the answers\n",
    "\n",
    "question = None\n",
    "written = False\n",
    "\n",
    "with open(\"prepared_answers.txt\", \"w\") as fout:\n",
    "    with open(PATH, \"r\") as fin:\n",
    "        for line in tqdm_notebook(fin):\n",
    "            if line.startswith(\"---\"):\n",
    "                written = False\n",
    "                continue\n",
    "            if not written and question is not None:\n",
    "                fout.write(question.replace(\"\\t\", \" \").strip() + \"\\t\" + line.replace(\"\\t\", \" \"))\n",
    "                written = True\n",
    "                question = None\n",
    "                continue\n",
    "            if not written:\n",
    "                question = line.strip()\n",
    "                continue"
   ]
  },
  {
   "cell_type": "code",
   "execution_count": null,
   "metadata": {
    "id": "-bp-TAWXCtPJ"
   },
   "outputs": [],
   "source": [
    "morpher = MorphAnalyzer()\n",
    "sw = set(get_stop_words(\"ru\"))\n",
    "exclude = set(string.punctuation)"
   ]
  },
  {
   "cell_type": "code",
   "execution_count": null,
   "metadata": {
    "id": "EZdHr7aBCtPI"
   },
   "outputs": [],
   "source": [
    "def preprocess_txt(line):\n",
    "    spls = \"\".join(i for i in line.strip() if i not in exclude).split()\n",
    "    spls = [morpher.parse(i.lower())[0].normal_form for i in spls]\n",
    "    spls = [i for i in spls if i not in sw and i != \"\"]\n",
    "    return spls"
   ]
  },
  {
   "cell_type": "code",
   "execution_count": null,
   "metadata": {
    "id": "VMFAWoqJtfN6"
   },
   "outputs": [],
   "source": [
    "def preprocess_txt1(line):\n",
    "    spls = \"\".join(i for i in line.strip() if i not in exclude).split()\n",
    "    spls = [morpher.parse(i.lower())[0].normal_form for i in spls]\n",
    "    spls = [i for i in spls if i != \"\"]\n",
    "    return spls"
   ]
  },
  {
   "cell_type": "code",
   "execution_count": null,
   "metadata": {
    "colab": {
     "base_uri": "https://localhost:8080/",
     "height": 103,
     "referenced_widgets": [
      "49a13c1f12494ee69b2d4651ab4e7472",
      "7b3e2bdfb9ae406fa7394e570d235176",
      "178e421c5fbc495b9fee413597178b0b",
      "ef93a5dabb554736b22b53e613269e96",
      "bc63860a30e34fec9dd5bdca2be5bc12",
      "7a89e2443ea84bce9b21d5ad3e92f133",
      "83904b2acd0c469493d1550c60b31390",
      "d82786e385154964a9f4086e33d533b9",
      "1f4fbbfe88534b2984d993b15552e891",
      "53536a91d717481680ea5d73508dce46",
      "3471913e941b40d1946f40f4830b3733"
     ]
    },
    "id": "xlm1MjMICtPJ",
    "outputId": "eb7df57e-0b03-4a36-e3b1-b458d009b105"
   },
   "outputs": [
    {
     "metadata": {
      "tags": null
     },
     "name": "stderr",
     "output_type": "stream",
     "text": [
      "/usr/local/lib/python3.7/dist-packages/ipykernel_launcher.py:13: TqdmDeprecationWarning: This function will be removed in tqdm==5.0.0\n",
      "Please use `tqdm.notebook.tqdm` instead of `tqdm.tqdm_notebook`\n",
      "  del sys.path[0]\n"
     ]
    },
    {
     "data": {
      "application/vnd.jupyter.widget-view+json": {
       "model_id": "49a13c1f12494ee69b2d4651ab4e7472",
       "version_major": 2,
       "version_minor": 0
      },
      "text/plain": [
       "0it [00:00, ?it/s]"
      ]
     },
     "metadata": {},
     "output_type": "display_data"
    }
   ],
   "source": [
    "assert True\n",
    "\n",
    "# Preprocess for models fitting\n",
    "\n",
    "sentences = []\n",
    "\n",
    "morpher = MorphAnalyzer()\n",
    "sw = set(get_stop_words(\"ru\"))\n",
    "exclude = set(string.punctuation)\n",
    "c = 0\n",
    "\n",
    "with open(PATH, \"r\") as fin:\n",
    "    for line in tqdm_notebook(fin):\n",
    "        spls = preprocess_txt(line)\n",
    "        sentences.append(spls)\n",
    "        c += 1\n",
    "        if c > 500000:\n",
    "            break"
   ]
  },
  {
   "cell_type": "code",
   "execution_count": null,
   "metadata": {
    "id": "Jtwp2vECDMv0"
   },
   "outputs": [],
   "source": [
    "import pickle\n",
    "with open('/content/drive/MyDrive/NLP_bot/sent.pkl', 'wb') as f:\n",
    "   pickle.dump(sentences, f)"
   ]
  },
  {
   "cell_type": "code",
   "execution_count": null,
   "metadata": {
    "id": "4eqPmtgFDcDS"
   },
   "outputs": [],
   "source": [
    "with open('/content/drive/MyDrive/NLP_bot/sent.pkl', 'rb') as f:\n",
    "  sentences = pickle.load(f)"
   ]
  },
  {
   "cell_type": "code",
   "execution_count": null,
   "metadata": {
    "colab": {
     "base_uri": "https://localhost:8080/"
    },
    "id": "ccOZWngp2q0S",
    "outputId": "22de5a10-e916-49a1-f2b9-7c44e263cae1"
   },
   "outputs": [
    {
     "name": "stdout",
     "output_type": "stream",
     "text": [
      "500001\n"
     ]
    },
    {
     "data": {
      "text/plain": [
       "['посылать', 'посылать', 'посылать', 'далёкий']"
      ]
     },
     "execution_count": 14,
     "metadata": {},
     "output_type": "execute_result"
    }
   ],
   "source": [
    "print(len(sentences))\n",
    "sentences[600]"
   ]
  },
  {
   "cell_type": "code",
   "execution_count": null,
   "metadata": {
    "colab": {
     "base_uri": "https://localhost:8080/"
    },
    "id": "vhlV-Sl6CtPK",
    "outputId": "03c38c2d-0254-42f8-c6ff-99118bfb1e9f"
   },
   "outputs": [
    {
     "name": "stdout",
     "output_type": "stream",
     "text": [
      "start train fasttext\n"
     ]
    }
   ],
   "source": [
    "sentences = [i for i in sentences if len(i) > 2]\n",
    "print('start train fasttext')\n",
    "modelFT = FastText(sentences=sentences, size=100, min_count=1, window=5, workers=8)\n",
    "modelFT.save(\"ft_model\")"
   ]
  },
  {
   "cell_type": "code",
   "execution_count": null,
   "metadata": {
    "id": "ktGc4EjW7Ufd"
   },
   "outputs": [],
   "source": [
    "modelFT.save(\"/content/drive/MyDrive/NLP_bot/ft_model\")"
   ]
  },
  {
   "cell_type": "code",
   "execution_count": null,
   "metadata": {
    "id": "4Q-FB9IQCtPK"
   },
   "outputs": [],
   "source": [
    "modelFT = FastText.load(\"ft_model\")"
   ]
  },
  {
   "cell_type": "code",
   "execution_count": null,
   "metadata": {
    "colab": {
     "base_uri": "https://localhost:8080/",
     "height": 120,
     "referenced_widgets": [
      "218785ac326f4f0c85f6cec2fb057b61",
      "cdd0fc76dfae48bbac646ed7a4011bdb",
      "9cef90479997465eac7f96853e89047a",
      "29eaae6576f04260b067d8823911657c",
      "a0c1151afebb4eac878e45e1e59bade6",
      "2e2b32f7f1fd4fb299876f1a9ea61adc",
      "0fe0e97fc2a74041805a6b343873ca58",
      "9dba5cdf62944c39bf3046700b48217f",
      "3d4f2b4ac8ee4686a147fb34f8bf44ab",
      "5d62dd5a00bd40abb8541a5f1d4d47fb",
      "126d2342c72c4434901485b77176daaf"
     ]
    },
    "id": "U0p3cTjDCtPT",
    "outputId": "1c9b7d1f-1d1f-497f-a4ec-4af970086415"
   },
   "outputs": [
    {
     "name": "stderr",
     "output_type": "stream",
     "text": [
      "/usr/local/lib/python3.7/dist-packages/ipykernel_launcher.py:8: TqdmDeprecationWarning: This function will be removed in tqdm==5.0.0\n",
      "Please use `tqdm.notebook.tqdm` instead of `tqdm.tqdm_notebook`\n",
      "  \n"
     ]
    },
    {
     "data": {
      "application/vnd.jupyter.widget-view+json": {
       "model_id": "218785ac326f4f0c85f6cec2fb057b61",
       "version_major": 2,
       "version_minor": 0
      },
      "text/plain": [
       "0it [00:00, ?it/s]"
      ]
     },
     "metadata": {},
     "output_type": "display_data"
    },
    {
     "data": {
      "text/plain": [
       "True"
      ]
     },
     "execution_count": 17,
     "metadata": {},
     "output_type": "execute_result"
    }
   ],
   "source": [
    "#modelFT = FastText.load(\"ft_model\")\n",
    "ft_index = annoy.AnnoyIndex(100 ,'angular')\n",
    "\n",
    "index_map = {}\n",
    "counter = 0\n",
    "\n",
    "with open(\"prepared_answers.txt\", \"r\") as f:\n",
    "    for line in tqdm_notebook(f):\n",
    "        n_ft = 0\n",
    "        spls = line.split(\"\\t\")\n",
    "        index_map[counter] = spls[1]\n",
    "        question = preprocess_txt(spls[0])\n",
    "        vector_ft = np.zeros(100)\n",
    "        for word in question:\n",
    "            if word in modelFT.wv:\n",
    "                vector_ft += modelFT.wv[word]\n",
    "                n_ft += 1\n",
    "        if n_ft > 0:\n",
    "            vector_ft = vector_ft / n_ft\n",
    "        ft_index.add_item(counter, vector_ft)\n",
    "            \n",
    "        counter += 1\n",
    "\n",
    "ft_index.build(10)\n",
    "ft_index.save('speaker.ann')"
   ]
  },
  {
   "cell_type": "code",
   "execution_count": null,
   "metadata": {
    "colab": {
     "base_uri": "https://localhost:8080/"
    },
    "id": "Zp2W3amvKSEU",
    "outputId": "24abba62-6347-4640-dca9-561ba1672017"
   },
   "outputs": [
    {
     "data": {
      "text/plain": [
       "True"
      ]
     },
     "execution_count": 18,
     "metadata": {},
     "output_type": "execute_result"
    }
   ],
   "source": [
    "ft_index.save('/content/drive/MyDrive/NLP_bot/speaker.ann')"
   ]
  },
  {
   "cell_type": "code",
   "execution_count": null,
   "metadata": {
    "id": "dU1dokKUwSTn"
   },
   "outputs": [],
   "source": [
    "with open('/content/drive/MyDrive/NLP_bot/index_map.pkl', 'wb') as f:\n",
    "   pickle.dump(index_map, f)"
   ]
  },
  {
   "cell_type": "code",
   "execution_count": null,
   "metadata": {
    "id": "qFdouxz3wlI7"
   },
   "outputs": [],
   "source": [
    "with open('/content/drive/MyDrive/NLP_bot/index_map.pkl', 'rb') as f:\n",
    "  index_map = pickle.load(f)"
   ]
  },
  {
   "cell_type": "code",
   "execution_count": null,
   "metadata": {
    "id": "BWv5VUzOCtPV"
   },
   "outputs": [],
   "source": [
    "modelFT = FastText.load(\"ft_model\")"
   ]
  },
  {
   "cell_type": "code",
   "execution_count": null,
   "metadata": {
    "colab": {
     "base_uri": "https://localhost:8080/"
    },
    "id": "CdMcbHj5CtPW",
    "outputId": "98cd287e-d58f-4c2c-cf09-d51eb333215f"
   },
   "outputs": [
    {
     "data": {
      "text/plain": [
       "True"
      ]
     },
     "execution_count": 8,
     "metadata": {},
     "output_type": "execute_result"
    }
   ],
   "source": [
    "ft_index = annoy.AnnoyIndex(100, 'angular')\n",
    "ft_index.load('speaker.ann') "
   ]
  },
  {
   "cell_type": "code",
   "execution_count": null,
   "metadata": {
    "colab": {
     "base_uri": "https://localhost:8080/"
    },
    "id": "IGl_ZCtOCtPW",
    "outputId": "bef6ebc7-b470-4714-cdd7-843e6a3c06ea"
   },
   "outputs": [
    {
     "data": {
      "text/plain": [
       "[1806, 33812]"
      ]
     },
     "execution_count": 20,
     "metadata": {},
     "output_type": "execute_result"
    }
   ],
   "source": [
    "ft_index.get_nns_by_vector(np.zeros(100), 2)"
   ]
  },
  {
   "cell_type": "markdown",
   "metadata": {
    "id": "x2F9TSEXORDP"
   },
   "source": [
    "#Загрузка данных с рецептами"
   ]
  },
  {
   "cell_type": "code",
   "execution_count": null,
   "metadata": {
    "id": "4zMz8GQend64"
   },
   "outputs": [],
   "source": [
    "! pip install kaggle\n",
    "! mkdir ~/.kaggle\n",
    "! cp kaggle.json ~/.kaggle/\n",
    "! chmod 600 ~/.kaggle/kaggle.json"
   ]
  },
  {
   "cell_type": "code",
   "execution_count": null,
   "metadata": {
    "colab": {
     "base_uri": "https://localhost:8080/"
    },
    "id": "OTU4TLwy2yxF",
    "outputId": "2a1328c2-19c9-4c0c-efba-bbbf9dd55724"
   },
   "outputs": [
    {
     "name": "stdout",
     "output_type": "stream",
     "text": [
      "Downloading recipes-and-interpretation-dim.zip to /content/drive/MyDrive/NLP_bot\n",
      " 56% 9.00M/16.0M [00:00<00:00, 26.8MB/s]\n",
      "100% 16.0M/16.0M [00:00<00:00, 42.8MB/s]\n"
     ]
    }
   ],
   "source": [
    "!kaggle datasets download -d coolonce/recipes-and-interpretation-dim -p /content/drive/MyDrive/NLP_bot/"
   ]
  },
  {
   "cell_type": "code",
   "execution_count": null,
   "metadata": {
    "colab": {
     "base_uri": "https://localhost:8080/"
    },
    "id": "_RF_Qvblf96h",
    "outputId": "61545616-fc09-4579-b67c-4057c1030607"
   },
   "outputs": [
    {
     "name": "stdout",
     "output_type": "stream",
     "text": [
      "all_recepies_inter.csv\n",
      "ft_model\n",
      "ft_model.trainables.syn1neg.npy\n",
      "ft_model.trainables.vectors_ngrams_lockf.npy\n",
      "ft_model.trainables.vectors_vocab_lockf.npy\n",
      "ft_model.wv.vectors_ngrams.npy\n",
      "ft_model.wv.vectors.npy\n",
      "ft_model.wv.vectors_vocab.npy\n",
      "recipes-and-interpretation-dim.zip\n",
      "speaker.ann\n"
     ]
    }
   ],
   "source": [
    "!ls /content/drive/MyDrive/NLP_bot/"
   ]
  },
  {
   "cell_type": "code",
   "execution_count": null,
   "metadata": {
    "colab": {
     "base_uri": "https://localhost:8080/"
    },
    "id": "fWVZdkLEgDXX",
    "outputId": "7055a67a-4801-4e52-9305-c5f5a4d53372"
   },
   "outputs": [
    {
     "name": "stdout",
     "output_type": "stream",
     "text": [
      "Archive:  /content/drive/MyDrive/NLP_bot/recipes-and-interpretation-dim.zip\n",
      "  inflating: /content/drive/MyDrive/NLP_bot/all_recepies_inter.csv  \n"
     ]
    }
   ],
   "source": [
    "!unzip /content/drive/MyDrive/NLP_bot/recipes-and-interpretation-dim.zip -d /content/drive/MyDrive/NLP_bot/"
   ]
  },
  {
   "cell_type": "code",
   "execution_count": null,
   "metadata": {
    "id": "dIZhKl3pgwz4"
   },
   "outputs": [],
   "source": [
    "path_rec = '/content/drive/MyDrive/NLP_bot/'"
   ]
  },
  {
   "cell_type": "code",
   "execution_count": null,
   "metadata": {
    "id": "KjUA6bxqhBRq"
   },
   "outputs": [],
   "source": [
    "df_rec = pd.read_csv(path_rec+'all_recepies_inter.csv', sep='\\t')"
   ]
  },
  {
   "cell_type": "code",
   "execution_count": null,
   "metadata": {
    "colab": {
     "base_uri": "https://localhost:8080/",
     "height": 458
    },
    "id": "Dvd6367FhHGK",
    "outputId": "de9e97ce-638f-443d-e199-a7d242cabf2e"
   },
   "outputs": [
    {
     "data": {
      "text/html": [
       "\n",
       "  <div id=\"df-f3a370b3-5493-40de-a80a-3a8940d7dd74\">\n",
       "    <div class=\"colab-df-container\">\n",
       "      <div>\n",
       "<style scoped>\n",
       "    .dataframe tbody tr th:only-of-type {\n",
       "        vertical-align: middle;\n",
       "    }\n",
       "\n",
       "    .dataframe tbody tr th {\n",
       "        vertical-align: top;\n",
       "    }\n",
       "\n",
       "    .dataframe thead th {\n",
       "        text-align: right;\n",
       "    }\n",
       "</style>\n",
       "<table border=\"1\" class=\"dataframe\">\n",
       "  <thead>\n",
       "    <tr style=\"text-align: right;\">\n",
       "      <th></th>\n",
       "      <th>Unnamed: 0</th>\n",
       "      <th>name</th>\n",
       "      <th>composition</th>\n",
       "      <th>cooking_type</th>\n",
       "      <th>Инструкции</th>\n",
       "      <th>dish_type</th>\n",
       "      <th>Дата</th>\n",
       "      <th>photo</th>\n",
       "      <th>source</th>\n",
       "      <th>composition_inter</th>\n",
       "    </tr>\n",
       "  </thead>\n",
       "  <tbody>\n",
       "    <tr>\n",
       "      <th>0</th>\n",
       "      <td>0</td>\n",
       "      <td>рассольник классический с перловкой и солеными...</td>\n",
       "      <td>[{'Перловка': 0.1, 'unit': 'стак. (200 мл)'}, ...</td>\n",
       "      <td>варка,жарка</td>\n",
       "      <td>Подготовить указанные ингредиенты для приготов...</td>\n",
       "      <td>первое</td>\n",
       "      <td>05.06.2015</td>\n",
       "      <td>photo_1000menu_1.jpg</td>\n",
       "      <td>https://1000.menu/cooking/33395-rassolnik-s-pe...</td>\n",
       "      <td>[{'product_id': 4253, 'name_source': 'Перловая...</td>\n",
       "    </tr>\n",
       "    <tr>\n",
       "      <th>1</th>\n",
       "      <td>1</td>\n",
       "      <td>Суп пюре из белокочаной капусты</td>\n",
       "      <td>[{'Капуста белокочанная': 50.0, 'unit': 'гр'},...</td>\n",
       "      <td>варка</td>\n",
       "      <td>Необходимые ингредиенты\\r\\nНарезаем лук, морко...</td>\n",
       "      <td>первое</td>\n",
       "      <td>27.06.2015</td>\n",
       "      <td>photo_1000menu_2.jpg</td>\n",
       "      <td>https://1000.menu/cooking/25399-sup-pure-iz-be...</td>\n",
       "      <td>[{'product_id': 2286, 'name_source': 'Капуста ...</td>\n",
       "    </tr>\n",
       "    <tr>\n",
       "      <th>2</th>\n",
       "      <td>2</td>\n",
       "      <td>Постные щи из квашеной капусты</td>\n",
       "      <td>[{'Капуста квашеная': 116.7, 'unit': 'гр'}, {'...</td>\n",
       "      <td>варка,жарка,тушение</td>\n",
       "      <td>Честно признаюсь, у меня не было репы на момен...</td>\n",
       "      <td>первое</td>\n",
       "      <td>12.02.2013</td>\n",
       "      <td>photo_1000menu_3.jpg</td>\n",
       "      <td>https://1000.menu/cooking/5159-postnje-shchi</td>\n",
       "      <td>[{'product_id': 0, 'name_source': 'Капуста ква...</td>\n",
       "    </tr>\n",
       "    <tr>\n",
       "      <th>3</th>\n",
       "      <td>3</td>\n",
       "      <td>Тюря- простой суп быстро и вкусно</td>\n",
       "      <td>[{'Квас': 0.2, 'unit': 'л'}, {'Лук репчатый': ...</td>\n",
       "      <td>сырое</td>\n",
       "      <td>\\r\\nНачинаем мы приготовление тюри с того, что...</td>\n",
       "      <td>первое</td>\n",
       "      <td>02.03.2011</td>\n",
       "      <td>photo_1000menu_4.jpg</td>\n",
       "      <td>https://1000.menu/cooking/5085-turya</td>\n",
       "      <td>[{'product_id': 0, 'name_source': 'Квас', 'uni...</td>\n",
       "    </tr>\n",
       "    <tr>\n",
       "      <th>4</th>\n",
       "      <td>4</td>\n",
       "      <td>Фасолевый суп из красной фасоли</td>\n",
       "      <td>[{'Вода': 0.3, 'unit': 'л'}, {'Картошка': 0.3,...</td>\n",
       "      <td>варка</td>\n",
       "      <td>Подготовить ингредиенты. Для приготовления суп...</td>\n",
       "      <td>первое</td>\n",
       "      <td>28.01.2013</td>\n",
       "      <td>photo_1000menu_5.jpg</td>\n",
       "      <td>https://1000.menu/cooking/38765-fasolevyi-sup-...</td>\n",
       "      <td>[{'product_id': 828, 'name_source': 'Вода', 'u...</td>\n",
       "    </tr>\n",
       "  </tbody>\n",
       "</table>\n",
       "</div>\n",
       "      <button class=\"colab-df-convert\" onclick=\"convertToInteractive('df-f3a370b3-5493-40de-a80a-3a8940d7dd74')\"\n",
       "              title=\"Convert this dataframe to an interactive table.\"\n",
       "              style=\"display:none;\">\n",
       "        \n",
       "  <svg xmlns=\"http://www.w3.org/2000/svg\" height=\"24px\"viewBox=\"0 0 24 24\"\n",
       "       width=\"24px\">\n",
       "    <path d=\"M0 0h24v24H0V0z\" fill=\"none\"/>\n",
       "    <path d=\"M18.56 5.44l.94 2.06.94-2.06 2.06-.94-2.06-.94-.94-2.06-.94 2.06-2.06.94zm-11 1L8.5 8.5l.94-2.06 2.06-.94-2.06-.94L8.5 2.5l-.94 2.06-2.06.94zm10 10l.94 2.06.94-2.06 2.06-.94-2.06-.94-.94-2.06-.94 2.06-2.06.94z\"/><path d=\"M17.41 7.96l-1.37-1.37c-.4-.4-.92-.59-1.43-.59-.52 0-1.04.2-1.43.59L10.3 9.45l-7.72 7.72c-.78.78-.78 2.05 0 2.83L4 21.41c.39.39.9.59 1.41.59.51 0 1.02-.2 1.41-.59l7.78-7.78 2.81-2.81c.8-.78.8-2.07 0-2.86zM5.41 20L4 18.59l7.72-7.72 1.47 1.35L5.41 20z\"/>\n",
       "  </svg>\n",
       "      </button>\n",
       "      \n",
       "  <style>\n",
       "    .colab-df-container {\n",
       "      display:flex;\n",
       "      flex-wrap:wrap;\n",
       "      gap: 12px;\n",
       "    }\n",
       "\n",
       "    .colab-df-convert {\n",
       "      background-color: #E8F0FE;\n",
       "      border: none;\n",
       "      border-radius: 50%;\n",
       "      cursor: pointer;\n",
       "      display: none;\n",
       "      fill: #1967D2;\n",
       "      height: 32px;\n",
       "      padding: 0 0 0 0;\n",
       "      width: 32px;\n",
       "    }\n",
       "\n",
       "    .colab-df-convert:hover {\n",
       "      background-color: #E2EBFA;\n",
       "      box-shadow: 0px 1px 2px rgba(60, 64, 67, 0.3), 0px 1px 3px 1px rgba(60, 64, 67, 0.15);\n",
       "      fill: #174EA6;\n",
       "    }\n",
       "\n",
       "    [theme=dark] .colab-df-convert {\n",
       "      background-color: #3B4455;\n",
       "      fill: #D2E3FC;\n",
       "    }\n",
       "\n",
       "    [theme=dark] .colab-df-convert:hover {\n",
       "      background-color: #434B5C;\n",
       "      box-shadow: 0px 1px 3px 1px rgba(0, 0, 0, 0.15);\n",
       "      filter: drop-shadow(0px 1px 2px rgba(0, 0, 0, 0.3));\n",
       "      fill: #FFFFFF;\n",
       "    }\n",
       "  </style>\n",
       "\n",
       "      <script>\n",
       "        const buttonEl =\n",
       "          document.querySelector('#df-f3a370b3-5493-40de-a80a-3a8940d7dd74 button.colab-df-convert');\n",
       "        buttonEl.style.display =\n",
       "          google.colab.kernel.accessAllowed ? 'block' : 'none';\n",
       "\n",
       "        async function convertToInteractive(key) {\n",
       "          const element = document.querySelector('#df-f3a370b3-5493-40de-a80a-3a8940d7dd74');\n",
       "          const dataTable =\n",
       "            await google.colab.kernel.invokeFunction('convertToInteractive',\n",
       "                                                     [key], {});\n",
       "          if (!dataTable) return;\n",
       "\n",
       "          const docLinkHtml = 'Like what you see? Visit the ' +\n",
       "            '<a target=\"_blank\" href=https://colab.research.google.com/notebooks/data_table.ipynb>data table notebook</a>'\n",
       "            + ' to learn more about interactive tables.';\n",
       "          element.innerHTML = '';\n",
       "          dataTable['output_type'] = 'display_data';\n",
       "          await google.colab.output.renderOutput(dataTable, element);\n",
       "          const docLink = document.createElement('div');\n",
       "          docLink.innerHTML = docLinkHtml;\n",
       "          element.appendChild(docLink);\n",
       "        }\n",
       "      </script>\n",
       "    </div>\n",
       "  </div>\n",
       "  "
      ],
      "text/plain": [
       "   Unnamed: 0                                               name  \\\n",
       "0           0  рассольник классический с перловкой и солеными...   \n",
       "1           1                    Суп пюре из белокочаной капусты   \n",
       "2           2                     Постные щи из квашеной капусты   \n",
       "3           3                  Тюря- простой суп быстро и вкусно   \n",
       "4           4                    Фасолевый суп из красной фасоли   \n",
       "\n",
       "                                         composition         cooking_type  \\\n",
       "0  [{'Перловка': 0.1, 'unit': 'стак. (200 мл)'}, ...          варка,жарка   \n",
       "1  [{'Капуста белокочанная': 50.0, 'unit': 'гр'},...                варка   \n",
       "2  [{'Капуста квашеная': 116.7, 'unit': 'гр'}, {'...  варка,жарка,тушение   \n",
       "3  [{'Квас': 0.2, 'unit': 'л'}, {'Лук репчатый': ...                сырое   \n",
       "4  [{'Вода': 0.3, 'unit': 'л'}, {'Картошка': 0.3,...                варка   \n",
       "\n",
       "                                          Инструкции dish_type        Дата  \\\n",
       "0  Подготовить указанные ингредиенты для приготов...    первое  05.06.2015   \n",
       "1  Необходимые ингредиенты\\r\\nНарезаем лук, морко...    первое  27.06.2015   \n",
       "2  Честно признаюсь, у меня не было репы на момен...    первое  12.02.2013   \n",
       "3  \\r\\nНачинаем мы приготовление тюри с того, что...    первое  02.03.2011   \n",
       "4  Подготовить ингредиенты. Для приготовления суп...    первое  28.01.2013   \n",
       "\n",
       "                  photo                                             source  \\\n",
       "0  photo_1000menu_1.jpg  https://1000.menu/cooking/33395-rassolnik-s-pe...   \n",
       "1  photo_1000menu_2.jpg  https://1000.menu/cooking/25399-sup-pure-iz-be...   \n",
       "2  photo_1000menu_3.jpg       https://1000.menu/cooking/5159-postnje-shchi   \n",
       "3  photo_1000menu_4.jpg               https://1000.menu/cooking/5085-turya   \n",
       "4  photo_1000menu_5.jpg  https://1000.menu/cooking/38765-fasolevyi-sup-...   \n",
       "\n",
       "                                   composition_inter  \n",
       "0  [{'product_id': 4253, 'name_source': 'Перловая...  \n",
       "1  [{'product_id': 2286, 'name_source': 'Капуста ...  \n",
       "2  [{'product_id': 0, 'name_source': 'Капуста ква...  \n",
       "3  [{'product_id': 0, 'name_source': 'Квас', 'uni...  \n",
       "4  [{'product_id': 828, 'name_source': 'Вода', 'u...  "
      ]
     },
     "execution_count": 23,
     "metadata": {},
     "output_type": "execute_result"
    }
   ],
   "source": [
    "df_rec.head()"
   ]
  },
  {
   "cell_type": "code",
   "execution_count": null,
   "metadata": {
    "colab": {
     "base_uri": "https://localhost:8080/"
    },
    "id": "7BuNM1lehdP4",
    "outputId": "f9f67d0f-0db2-4995-833a-7dfb270bec2b"
   },
   "outputs": [
    {
     "data": {
      "text/plain": [
       "(27884, 10)"
      ]
     },
     "execution_count": 24,
     "metadata": {},
     "output_type": "execute_result"
    }
   ],
   "source": [
    "df_rec.shape"
   ]
  },
  {
   "cell_type": "code",
   "execution_count": null,
   "metadata": {
    "id": "9X4H_bv5heYA"
   },
   "outputs": [],
   "source": [
    "data = df_rec.loc[:5000, 'Инструкции'] #ограничимся 5000 записями"
   ]
  },
  {
   "cell_type": "code",
   "execution_count": null,
   "metadata": {
    "id": "hCW_qdf5hnYb"
   },
   "outputs": [],
   "source": [
    "import re\n",
    "from sklearn.model_selection import train_test_split\n",
    "\n",
    "def build_text_files(data_json, dest_path):\n",
    "    f = open(dest_path, 'w')\n",
    "    data = ''\n",
    "    for texts in data_json:\n",
    "        summary = str(texts).strip()\n",
    "        summary = re.sub(r\"\\s\", \" \", summary)\n",
    "        data += summary + \"  \"\n",
    "    f.write(data)"
   ]
  },
  {
   "cell_type": "code",
   "execution_count": null,
   "metadata": {
    "id": "EtyLIXtjiCOi"
   },
   "outputs": [],
   "source": [
    "train, test = train_test_split(data, test_size=0.15)\n",
    "\n",
    "build_text_files(train,'train_dataset.txt')\n",
    "build_text_files(test,'test_dataset.txt')"
   ]
  },
  {
   "cell_type": "code",
   "execution_count": null,
   "metadata": {
    "colab": {
     "base_uri": "https://localhost:8080/"
    },
    "id": "B5W9cDiKiGmI",
    "outputId": "f0a6888c-d9fe-4740-9a8b-41242aea4b89"
   },
   "outputs": [
    {
     "name": "stdout",
     "output_type": "stream",
     "text": [
      "Train dataset length: 4250\n",
      "Test dataset length: 751\n"
     ]
    }
   ],
   "source": [
    "print(\"Train dataset length: \"+ str(len(train)))\n",
    "print(\"Test dataset length: \"+ str(len(test)))"
   ]
  },
  {
   "cell_type": "code",
   "execution_count": null,
   "metadata": {
    "id": "axL0e47UiPfQ"
   },
   "outputs": [],
   "source": [
    "!pip install transformers"
   ]
  },
  {
   "cell_type": "code",
   "execution_count": null,
   "metadata": {
    "colab": {
     "base_uri": "https://localhost:8080/",
     "height": 131,
     "referenced_widgets": [
      "be05e29d0d4740b1a0931ddea24c0047",
      "410be7ceee224ab4994c922e461c6cbf",
      "0444eedd16184c2ea8aae0e0d7f24559",
      "64a1b1a7ee8c48b1b6ea84d2e0af2400",
      "c1fb8947f62442c8a149ec2431e5f961",
      "1a044b15892b42229a7cb039683f73c4",
      "59258fe00f874ecabba012181e4762cb",
      "5d8a92aa0843477690cea93b44768311",
      "5ebafc31661e49edb508a2239dded463",
      "f9f2553352ca4dbbab399d28a6af6809",
      "ee70cceceaea4680aa7a55d5b6df68d6",
      "07b65703c7bb41f3915efb5fac1c483b",
      "1bdac4a7b9a844f0b7b5bd1df14917a6",
      "7dde4bd7292a4c9c86ba9faf457f77d7",
      "45d72369dee04aa0999f5aee609b3376",
      "322520563df840329a2ff8df15f6b767",
      "62ef357ddbff4fc2a16a9ac5fac1a17c",
      "5c12481f84064a68848a9c519bbc84de",
      "3d938795b3374cb89a03ddfe3c209ee5",
      "3134b350d57b4396ab5e8e4f9566b0f8",
      "dbb7742ed97c4ef8978ce1c36b39ada1",
      "196cbb13fa6945d4bde2f403b3243f12",
      "f5cd1092c4b54fe781fef419eaa65cb6",
      "8d0dcfea1d0440ce8772e24dd8ee956e",
      "02c13d42b21e4842a907c2a832817828",
      "8d61ed06de1547f5b59d67e09e28f86a",
      "de5333141b2a4c709888f9011bf59cca",
      "fff7ae190ae040d3a09f2a54463dd631",
      "7860b32ff5be492d85424cf691a78b3a",
      "a2b35835975d46a6918f2fa91792e98c",
      "028f0efb0ba647379db5fe7b27f2d2b0",
      "e36785443bf04db185455473db358ad0",
      "df5071d2172d4b4cb9a85b7fb6d2d875"
     ]
    },
    "id": "UyoCopApiGbR",
    "outputId": "66dd599b-c2ca-4418-c950-2f50abc371b7"
   },
   "outputs": [
    {
     "data": {
      "application/vnd.jupyter.widget-view+json": {
       "model_id": "be05e29d0d4740b1a0931ddea24c0047",
       "version_major": 2,
       "version_minor": 0
      },
      "text/plain": [
       "Downloading:   0%|          | 0.00/608 [00:00<?, ?B/s]"
      ]
     },
     "metadata": {},
     "output_type": "display_data"
    },
    {
     "data": {
      "application/vnd.jupyter.widget-view+json": {
       "model_id": "07b65703c7bb41f3915efb5fac1c483b",
       "version_major": 2,
       "version_minor": 0
      },
      "text/plain": [
       "Downloading:   0%|          | 0.00/1.63M [00:00<?, ?B/s]"
      ]
     },
     "metadata": {},
     "output_type": "display_data"
    },
    {
     "data": {
      "application/vnd.jupyter.widget-view+json": {
       "model_id": "f5cd1092c4b54fe781fef419eaa65cb6",
       "version_major": 2,
       "version_minor": 0
      },
      "text/plain": [
       "Downloading:   0%|          | 0.00/1.21M [00:00<?, ?B/s]"
      ]
     },
     "metadata": {},
     "output_type": "display_data"
    },
    {
     "name": "stderr",
     "output_type": "stream",
     "text": [
      "Special tokens have been added in the vocabulary, make sure the associated word embeddings are fine-tuned or trained.\n"
     ]
    }
   ],
   "source": [
    "from transformers import AutoTokenizer\n",
    "#sberbank-ai/rugpt3large_based_on_gpt2\n",
    "#sberbank-ai/rugpt3medium_based_on_gpt2\n",
    "#sberbank-ai/rugpt3small_based_on_gpt2\n",
    "\n",
    "tokenizer = AutoTokenizer.from_pretrained(\"sberbank-ai/rugpt3small_based_on_gpt2\")\n",
    "\n"
   ]
  },
  {
   "cell_type": "code",
   "execution_count": null,
   "metadata": {
    "id": "4SyYp6UXBT1W"
   },
   "outputs": [],
   "source": [
    "train_path = 'train_dataset.txt'\n",
    "test_path = 'test_dataset.txt'"
   ]
  },
  {
   "cell_type": "markdown",
   "metadata": {
    "id": "rNIPyNqeOclH"
   },
   "source": [
    "#Fine-tuning предобученной GPT модели"
   ]
  },
  {
   "cell_type": "code",
   "execution_count": null,
   "metadata": {
    "colab": {
     "base_uri": "https://localhost:8080/"
    },
    "id": "0Z_EkJSIiGSp",
    "outputId": "4cbccbd4-2efc-4e8e-dc63-131ea83b5158"
   },
   "outputs": [
    {
     "name": "stderr",
     "output_type": "stream",
     "text": [
      "/usr/local/lib/python3.7/dist-packages/transformers/data/datasets/language_modeling.py:58: FutureWarning: This dataset will be removed from the library soon, preprocessing should be handled with the 🤗 Datasets library. You can have a look at this example script for pointers: https://github.com/huggingface/transformers/blob/main/examples/pytorch/language-modeling/run_mlm.py\n",
      "  FutureWarning,\n"
     ]
    }
   ],
   "source": [
    "from transformers import TextDataset, DataCollatorForLanguageModeling\n",
    "\n",
    "def load_dataset(train_path, test_path, tokenizer):\n",
    "    train_dataset = TextDataset(\n",
    "          tokenizer=tokenizer,\n",
    "          file_path=train_path,\n",
    "          block_size=128)\n",
    "\n",
    "    test_dataset = TextDataset(\n",
    "          tokenizer=tokenizer,\n",
    "          file_path=test_path,\n",
    "          block_size=128)\n",
    "\n",
    "    data_collator = DataCollatorForLanguageModeling(\n",
    "        tokenizer=tokenizer, mlm=False,\n",
    "    )\n",
    "    return train_dataset, test_dataset, data_collator\n",
    "\n",
    "train_dataset, test_dataset, data_collator = load_dataset(train_path, test_path, tokenizer)\n"
   ]
  },
  {
   "cell_type": "code",
   "execution_count": null,
   "metadata": {
    "colab": {
     "base_uri": "https://localhost:8080/",
     "height": 49,
     "referenced_widgets": [
      "87ba9fdc4dc447f9a6f2eaad8d0d933f",
      "731b6d9f08e247cb9f03b30e5a4a1615",
      "6ff589e29d4047a48219d3b4f56ed506",
      "ad931a41006b466ebc3d956459a69b3f",
      "39c4cda45b3a4de6b6c8974d12d357e0",
      "c003f5d964724830bbc4740e6021bacf",
      "0b775ba2278447d78a4416645beee6a6",
      "421e42e3dc934346b40c11cd20f1f080",
      "8ef3e4dfefa045dd8692782abad4f598",
      "19a5a8e2e2174b4b9e85794beb7d80bb",
      "6e9416bd8f0b478bbe7fa45d411ea693"
     ]
    },
    "id": "P0FhQrycihGr",
    "outputId": "7cc35c01-a02d-4c89-fc9a-f873335d3efb"
   },
   "outputs": [
    {
     "data": {
      "application/vnd.jupyter.widget-view+json": {
       "model_id": "87ba9fdc4dc447f9a6f2eaad8d0d933f",
       "version_major": 2,
       "version_minor": 0
      },
      "text/plain": [
       "Downloading:   0%|          | 0.00/526M [00:00<?, ?B/s]"
      ]
     },
     "metadata": {},
     "output_type": "display_data"
    }
   ],
   "source": [
    "from transformers import Trainer, TrainingArguments, AutoModelForCausalLM\n",
    "\n",
    "model = AutoModelForCausalLM.from_pretrained(\"sberbank-ai/rugpt3small_based_on_gpt2\")"
   ]
  },
  {
   "cell_type": "code",
   "execution_count": null,
   "metadata": {
    "id": "D9j0rlNxijOM"
   },
   "outputs": [],
   "source": [
    "training_args = TrainingArguments(\n",
    "    output_dir=\"./gpt2-chief\", #The output directory\n",
    "    overwrite_output_dir=True, #overwrite the content of the output directory\n",
    "    num_train_epochs=3, # number of training epochs\n",
    "    per_device_train_batch_size=4, # batch size for training\n",
    "    per_device_eval_batch_size=4,  # batch size for evaluation\n",
    "    eval_steps = 400, # Number of update steps between two evaluations.\n",
    "    save_steps=800, # after # steps model is saved\n",
    "    warmup_steps=500,# number of warmup steps for learning rate scheduler\n",
    "    )"
   ]
  },
  {
   "cell_type": "code",
   "execution_count": null,
   "metadata": {
    "id": "MnM33rHvipLx"
   },
   "outputs": [],
   "source": [
    "trainer = Trainer(\n",
    "    model=model,\n",
    "    args=training_args,\n",
    "    data_collator=data_collator,\n",
    "    train_dataset=train_dataset,\n",
    "    eval_dataset=test_dataset\n",
    ")"
   ]
  },
  {
   "cell_type": "code",
   "execution_count": null,
   "metadata": {
    "colab": {
     "base_uri": "https://localhost:8080/",
     "height": 1000
    },
    "id": "PkHx4s0Yisq5",
    "outputId": "1cf979d9-6183-466f-a2de-cf1edee1af4a"
   },
   "outputs": [
    {
     "name": "stderr",
     "output_type": "stream",
     "text": [
      "/usr/local/lib/python3.7/dist-packages/transformers/optimization.py:310: FutureWarning: This implementation of AdamW is deprecated and will be removed in a future version. Use the PyTorch implementation torch.optim.AdamW instead, or set `no_deprecation_warning=True` to disable this warning\n",
      "  FutureWarning,\n",
      "***** Running training *****\n",
      "  Num examples = 6696\n",
      "  Num Epochs = 3\n",
      "  Instantaneous batch size per device = 4\n",
      "  Total train batch size (w. parallel, distributed & accumulation) = 4\n",
      "  Gradient Accumulation steps = 1\n",
      "  Total optimization steps = 5022\n"
     ]
    },
    {
     "data": {
      "text/html": [
       "\n",
       "    <div>\n",
       "      \n",
       "      <progress value='5022' max='5022' style='width:300px; height:20px; vertical-align: middle;'></progress>\n",
       "      [5022/5022 17:07, Epoch 3/3]\n",
       "    </div>\n",
       "    <table border=\"1\" class=\"dataframe\">\n",
       "  <thead>\n",
       " <tr style=\"text-align: left;\">\n",
       "      <th>Step</th>\n",
       "      <th>Training Loss</th>\n",
       "    </tr>\n",
       "  </thead>\n",
       "  <tbody>\n",
       "    <tr>\n",
       "      <td>500</td>\n",
       "      <td>2.532300</td>\n",
       "    </tr>\n",
       "    <tr>\n",
       "      <td>1000</td>\n",
       "      <td>2.452700</td>\n",
       "    </tr>\n",
       "    <tr>\n",
       "      <td>1500</td>\n",
       "      <td>2.365900</td>\n",
       "    </tr>\n",
       "    <tr>\n",
       "      <td>2000</td>\n",
       "      <td>2.217900</td>\n",
       "    </tr>\n",
       "    <tr>\n",
       "      <td>2500</td>\n",
       "      <td>2.161000</td>\n",
       "    </tr>\n",
       "    <tr>\n",
       "      <td>3000</td>\n",
       "      <td>2.146200</td>\n",
       "    </tr>\n",
       "    <tr>\n",
       "      <td>3500</td>\n",
       "      <td>2.092400</td>\n",
       "    </tr>\n",
       "    <tr>\n",
       "      <td>4000</td>\n",
       "      <td>1.984100</td>\n",
       "    </tr>\n",
       "    <tr>\n",
       "      <td>4500</td>\n",
       "      <td>1.968900</td>\n",
       "    </tr>\n",
       "    <tr>\n",
       "      <td>5000</td>\n",
       "      <td>1.962500</td>\n",
       "    </tr>\n",
       "  </tbody>\n",
       "</table><p>"
      ],
      "text/plain": [
       "<IPython.core.display.HTML object>"
      ]
     },
     "metadata": {},
     "output_type": "display_data"
    },
    {
     "name": "stderr",
     "output_type": "stream",
     "text": [
      "Saving model checkpoint to ./gpt2-chief/checkpoint-800\n",
      "Configuration saved in ./gpt2-chief/checkpoint-800/config.json\n",
      "Model weights saved in ./gpt2-chief/checkpoint-800/pytorch_model.bin\n",
      "Saving model checkpoint to ./gpt2-chief/checkpoint-1600\n",
      "Configuration saved in ./gpt2-chief/checkpoint-1600/config.json\n",
      "Model weights saved in ./gpt2-chief/checkpoint-1600/pytorch_model.bin\n",
      "Saving model checkpoint to ./gpt2-chief/checkpoint-2400\n",
      "Configuration saved in ./gpt2-chief/checkpoint-2400/config.json\n",
      "Model weights saved in ./gpt2-chief/checkpoint-2400/pytorch_model.bin\n",
      "Saving model checkpoint to ./gpt2-chief/checkpoint-3200\n",
      "Configuration saved in ./gpt2-chief/checkpoint-3200/config.json\n",
      "Model weights saved in ./gpt2-chief/checkpoint-3200/pytorch_model.bin\n",
      "Saving model checkpoint to ./gpt2-chief/checkpoint-4000\n",
      "Configuration saved in ./gpt2-chief/checkpoint-4000/config.json\n",
      "Model weights saved in ./gpt2-chief/checkpoint-4000/pytorch_model.bin\n",
      "Saving model checkpoint to ./gpt2-chief/checkpoint-4800\n",
      "Configuration saved in ./gpt2-chief/checkpoint-4800/config.json\n",
      "Model weights saved in ./gpt2-chief/checkpoint-4800/pytorch_model.bin\n",
      "\n",
      "\n",
      "Training completed. Do not forget to share your model on huggingface.co/models =)\n",
      "\n",
      "\n"
     ]
    },
    {
     "data": {
      "text/plain": [
       "TrainOutput(global_step=5022, training_loss=2.1873444914580435, metrics={'train_runtime': 1028.3138, 'train_samples_per_second': 19.535, 'train_steps_per_second': 4.884, 'total_flos': 1312208584704000.0, 'train_loss': 2.1873444914580435, 'epoch': 3.0})"
      ]
     },
     "execution_count": 74,
     "metadata": {},
     "output_type": "execute_result"
    }
   ],
   "source": [
    "trainer.train()"
   ]
  },
  {
   "cell_type": "code",
   "execution_count": null,
   "metadata": {
    "colab": {
     "base_uri": "https://localhost:8080/"
    },
    "id": "a2kO2g-xi3Gc",
    "outputId": "4bd036da-470b-4d21-cdcd-6345531a7954"
   },
   "outputs": [
    {
     "name": "stderr",
     "output_type": "stream",
     "text": [
      "Saving model checkpoint to ./gpt2-chief\n",
      "Configuration saved in ./gpt2-chief/config.json\n",
      "Model weights saved in ./gpt2-chief/pytorch_model.bin\n"
     ]
    }
   ],
   "source": [
    "trainer.save_model()"
   ]
  },
  {
   "cell_type": "code",
   "execution_count": null,
   "metadata": {
    "colab": {
     "base_uri": "https://localhost:8080/"
    },
    "id": "__0stvSjjfdg",
    "outputId": "15cac0c5-ba3d-4a10-d435-260259c39080"
   },
   "outputs": [
    {
     "name": "stderr",
     "output_type": "stream",
     "text": [
      "tokenizer config file saved in /content/drive/MyDrive/NLP_bot/gpt_chf/tokenizer_config.json\n",
      "Special tokens file saved in /content/drive/MyDrive/NLP_bot/gpt_chf/special_tokens_map.json\n",
      "Configuration saved in /content/drive/MyDrive/NLP_bot/model_gpt_chf/config.json\n",
      "Model weights saved in /content/drive/MyDrive/NLP_bot/model_gpt_chf/pytorch_model.bin\n"
     ]
    }
   ],
   "source": [
    "tokenizer.save_pretrained(path_rec+'gpt_chf')\n",
    "model.save_pretrained(path_rec+'model_gpt_chf')"
   ]
  },
  {
   "cell_type": "code",
   "execution_count": null,
   "metadata": {
    "id": "508RRfytijC_"
   },
   "outputs": [],
   "source": [
    "tokenizer = AutoTokenizer.from_pretrained(path_rec+\"gpt_chf\")\n",
    "model1 = AutoModelForCausalLM.from_pretrained(path_rec+\"model_gpt_chf\")"
   ]
  },
  {
   "cell_type": "code",
   "execution_count": null,
   "metadata": {
    "id": "PY3PucLaR0t0"
   },
   "outputs": [],
   "source": [
    "prefix = \"берем свежие томаты \""
   ]
  },
  {
   "cell_type": "code",
   "execution_count": null,
   "metadata": {
    "id": "Pu3kdFYnnGtr"
   },
   "outputs": [],
   "source": [
    "prefix = \"берем клубнику \""
   ]
  },
  {
   "cell_type": "code",
   "execution_count": null,
   "metadata": {
    "id": "F2e3JWnERoJs"
   },
   "outputs": [],
   "source": [
    "tokens = tokenizer(prefix, return_tensors='pt')\n",
    "#tokens = {k: v.to(model.device) for k, v in tokens.items()}"
   ]
  },
  {
   "cell_type": "code",
   "execution_count": null,
   "metadata": {
    "colab": {
     "base_uri": "https://localhost:8080/"
    },
    "id": "SU5glEt3Q30k",
    "outputId": "531feaf1-5b37-4326-849d-fcaf2bef3248"
   },
   "outputs": [
    {
     "name": "stderr",
     "output_type": "stream",
     "text": [
      "Setting `pad_token_id` to `eos_token_id`:50256 for open-end generation.\n"
     ]
    },
    {
     "name": "stdout",
     "output_type": "stream",
     "text": [
      "берем клубнику  и добавляем ее в кипящую воду, варим до мягкости. Затем снимаем с поверхности кожицу и нарезаем небольшими кубиками.  2. В кастрюлю наливаем растительное масло, кладем сахарный песок, соль, перец\n"
     ]
    }
   ],
   "source": [
    "#для теста оставляю длину +50\n",
    "\n",
    "size = tokens['input_ids'].shape[1]\n",
    "output = model1.generate( \n",
    "    **tokens, \n",
    "    #end_token=end_token_id,\n",
    "    do_sample=False, \n",
    "    max_length=size+50, \n",
    "    repetition_penalty=5., \n",
    "    temperature=0.5,\n",
    "    num_beams=2,\n",
    ")\n",
    "\n",
    "decoded = tokenizer.decode(output[0])\n",
    "result = decoded[len(prefix):]\n",
    "print(prefix + result)"
   ]
  },
  {
   "cell_type": "code",
   "execution_count": null,
   "metadata": {
    "id": "HibBZb-MwuOY"
   },
   "outputs": [],
   "source": [
    "def gpt_generate(prefix):\n",
    "  tokens = tokenizer(prefix, return_tensors='pt')\n",
    "  size = tokens['input_ids'].shape[1]\n",
    "  output = model1.generate( \n",
    "      **tokens, \n",
    "      #end_token=end_token_id,\n",
    "      do_sample=False, \n",
    "      max_length=size+50, \n",
    "      repetition_penalty=5., \n",
    "      temperature=0.5,\n",
    "      num_beams=2,\n",
    "  )\n",
    "\n",
    "  decoded = tokenizer.decode(output[0])\n",
    "  result = decoded[len(prefix):]\n",
    "  return prefix + result"
   ]
  },
  {
   "cell_type": "code",
   "execution_count": null,
   "metadata": {
    "colab": {
     "base_uri": "https://localhost:8080/",
     "height": 53
    },
    "id": "Du2DMoOSxHqp",
    "outputId": "f602b6e8-9af4-43f9-de23-480495fa933d"
   },
   "outputs": [
    {
     "name": "stderr",
     "output_type": "stream",
     "text": [
      "Setting `pad_token_id` to `eos_token_id`:50256 for open-end generation.\n"
     ]
    },
    {
     "data": {
      "application/vnd.google.colaboratory.intrinsic+json": {
       "type": "string"
      },
      "text/plain": [
       "'берем свежие томаты  2. Нарежем помидоры кубиками, а лук полукольцами.  3. В кастрюле разогреваем оливковое масло и обжариваем нарезанный лук до мягкости (около 5 минут).  4. Добавляем к луку'"
      ]
     },
     "execution_count": 37,
     "metadata": {},
     "output_type": "execute_result"
    }
   ],
   "source": [
    "gpt_generate(prefix)"
   ]
  },
  {
   "cell_type": "markdown",
   "metadata": {
    "id": "zdIMrRbepJO1"
   },
   "source": [
    "# Обучение CatBoost для классификации интентов"
   ]
  },
  {
   "cell_type": "code",
   "execution_count": null,
   "metadata": {
    "id": "F1kiPEWsCtPW"
   },
   "outputs": [],
   "source": [
    "data_new = data.apply(lambda x: preprocess_txt(str(x)))"
   ]
  },
  {
   "cell_type": "code",
   "execution_count": null,
   "metadata": {
    "colab": {
     "base_uri": "https://localhost:8080/"
    },
    "id": "McTZSTq4pCJq",
    "outputId": "317a8bfe-7b57-4791-9f1f-ba756682beb1"
   },
   "outputs": [
    {
     "data": {
      "text/plain": [
       "0    [подготовить, указанный, ингредиент, приготовл...\n",
       "1    [необходимый, ингредиент, нарезать, лук, морко...\n",
       "2    [честно, признаться, репа, момент, приготовлен...\n",
       "3    [начинать, приготовление, тюри, заранее, подго...\n",
       "4    [подготовить, ингредиент, приготовление, суп, ...\n",
       "5    [мясо, нарезать, порционный, кусочек, оставлят...\n",
       "6    [брать, продукт, список, показать, фото, нагля...\n",
       "7    [продукт, приготовление, турецкий, суп, булгур...\n",
       "8    [приготовить, постный, гороховый, суп, подгото...\n",
       "9    [подготовить, указанный, продукт, создание, су...\n",
       "Name: Инструкции, dtype: object"
      ]
     },
     "execution_count": 39,
     "metadata": {},
     "output_type": "execute_result"
    }
   ],
   "source": [
    "data_new[:10]"
   ]
  },
  {
   "cell_type": "code",
   "execution_count": null,
   "metadata": {
    "colab": {
     "base_uri": "https://localhost:8080/"
    },
    "id": "kO5FpVcMCtPX",
    "outputId": "a6006192-c783-4c02-f247-6409d0cf4c4f"
   },
   "outputs": [
    {
     "data": {
      "text/plain": [
       "(5001,)"
      ]
     },
     "execution_count": 40,
     "metadata": {},
     "output_type": "execute_result"
    }
   ],
   "source": [
    "data_new.shape"
   ]
  },
  {
   "cell_type": "code",
   "execution_count": null,
   "metadata": {
    "id": "h6YBEkCICtPX"
   },
   "outputs": [],
   "source": [
    "from sklearn.feature_extraction.text import CountVectorizer\n",
    "from sklearn.linear_model import LogisticRegression\n",
    "\n",
    "vectorizer = CountVectorizer(ngram_range=(1, 2))"
   ]
  },
  {
   "cell_type": "code",
   "execution_count": null,
   "metadata": {
    "id": "ZL2AvWrHCtPY"
   },
   "outputs": [],
   "source": [
    "#!ls"
   ]
  },
  {
   "cell_type": "code",
   "execution_count": null,
   "metadata": {
    "id": "BK1sauNoCtPY"
   },
   "outputs": [],
   "source": [
    "idxs = set(np.random.randint(0, len(index_map), len(data)))"
   ]
  },
  {
   "cell_type": "code",
   "execution_count": null,
   "metadata": {
    "id": "IReFxg2rCtPY"
   },
   "outputs": [],
   "source": [
    "negative_texts = [\" \".join(preprocess_txt(index_map[i])) for i in idxs]"
   ]
  },
  {
   "cell_type": "code",
   "execution_count": null,
   "metadata": {
    "id": "WzLBarswsmrn"
   },
   "outputs": [],
   "source": [
    "#negative_texts = [\" \".join(i) for i in sentences[:5001]]"
   ]
  },
  {
   "cell_type": "code",
   "execution_count": null,
   "metadata": {
    "colab": {
     "base_uri": "https://localhost:8080/"
    },
    "id": "4RRiBjUxs5A8",
    "outputId": "c3775446-c33b-412e-e423-a64e7a289461"
   },
   "outputs": [
    {
     "data": {
      "text/plain": [
       "4991"
      ]
     },
     "execution_count": 45,
     "metadata": {},
     "output_type": "execute_result"
    }
   ],
   "source": [
    "len(negative_texts)"
   ]
  },
  {
   "cell_type": "code",
   "execution_count": null,
   "metadata": {
    "id": "IxF10UMqCtPZ"
   },
   "outputs": [],
   "source": [
    "positive_texts = [\" \".join(val) for val in data_new.values]"
   ]
  },
  {
   "cell_type": "code",
   "execution_count": null,
   "metadata": {
    "colab": {
     "base_uri": "https://localhost:8080/"
    },
    "id": "YXCDeYNurv3-",
    "outputId": "1f9c8097-bf2c-471c-f9b0-648694b714e7"
   },
   "outputs": [
    {
     "data": {
      "text/plain": [
       "5001"
      ]
     },
     "execution_count": 47,
     "metadata": {},
     "output_type": "execute_result"
    }
   ],
   "source": [
    "len(positive_texts)"
   ]
  },
  {
   "cell_type": "code",
   "execution_count": null,
   "metadata": {
    "colab": {
     "base_uri": "https://localhost:8080/"
    },
    "id": "nNuoL1s7CtPZ",
    "outputId": "1650129b-d174-4c7a-ab4b-b1631e177737"
   },
   "outputs": [
    {
     "data": {
      "text/plain": [
       "('брадикардияbrbrбрадикардия медленный пульс применительно взрослый пульс 60 удар считаться брадикардия брадикардия становиться следствие целое спектр сопутствовать заболевание выраженный проявление брадикардия больной наблюдаться слабость боль область сердце холодный пот головокружение полуобморочный состояние полный потеря сознанияbrbrть основное брадикардия вызвать причинамиbrbrнеспособность синусовый узел генерировать импульс называть синдром слабость синусовый узел сссуbrплохой проведение импульсовbrчасто брадикардия бывать следствие ишемический болезнь сердце артериальный гипертензия миокардит приём некоторый лекарственный препарат эндокринный заболевание повышение уровень калий кровь повышение внутричерепной давление дрbrbrметод диагностика брадикардииbrbrэлектрокардиографияbrхолтеровский мониторированиеbrэлектрофизиологический исследованиеbrэкг телефонуbrметод лечение брадикардииbrbrединственный надёжный метод лечение брадикардия являться имплантация электрокардиостимулятораbrbr',\n",
       " 'приготовить ингредиент опёнок супчик хороший брать крупный оставить целый вкусно красиво набор овощ желание увеличить добавить макароны круп суп питательный сытный опёнок очищать земля мусор промывать проточный вода класть кастрюля заливать чистый вода добавлять соль варить 30 минута вода вариться опёнок сливать заливать свежеть вода приготовить овощ грибной супарепчатый лук чистить мелко реж морковь чистить натирать средний тёрка сковорода разогревать растительный масло класть подготовить репчатый лук морковь обжаривать овощ среднее огонь золотистость картофель чистить нарезать крупный кубик кастрюля опёнок класть овощной зажарка морковь репчатый лука добавлять порезать картофель ставить огонь доводить кипение убавлять огонь среднее добавлять соль вкус чёрный перец горошек варить 20 минутдобавлять лавровый лист сделать грибной суп ароматный варить 57 минута выключать огонь суп оставлять плита крышка потомиться 15 минута желание добавить суп мелко порезать зелень укроп петрушка усилить вкус суп сделать ароматнеезатем грибной суп разливать супница подавать стол желание грибной суп опёнок подать сметана свежеть зелень чеснок ржаной хлеб получаться вкусно приятный аппетит')"
      ]
     },
     "execution_count": 48,
     "metadata": {},
     "output_type": "execute_result"
    }
   ],
   "source": [
    "negative_texts[13], positive_texts[13]"
   ]
  },
  {
   "cell_type": "code",
   "execution_count": null,
   "metadata": {
    "id": "9N30GxrcCtPa"
   },
   "outputs": [],
   "source": [
    "dataset = negative_texts + positive_texts\n",
    "labels = np.zeros(len(dataset))\n",
    "labels[len(negative_texts):] = np.ones(len(positive_texts))"
   ]
  },
  {
   "cell_type": "code",
   "execution_count": null,
   "metadata": {
    "id": "B67WMDnKCtPa"
   },
   "outputs": [],
   "source": [
    "from sklearn.model_selection import train_test_split\n",
    "\n",
    "X_train, X_test, y_train, y_test = train_test_split(dataset, labels, test_size=0.2, stratify=labels,\n",
    "                                                    random_state=13)"
   ]
  },
  {
   "cell_type": "code",
   "execution_count": null,
   "metadata": {
    "id": "RVC1KzZpJJGX"
   },
   "outputs": [],
   "source": [
    "!pip install catboost"
   ]
  },
  {
   "cell_type": "code",
   "execution_count": null,
   "metadata": {
    "id": "F2n4LxkoCtPa"
   },
   "outputs": [],
   "source": [
    "from catboost import CatBoostClassifier\n",
    "cat = CatBoostClassifier()\n",
    "x_train_vec = vectorizer.fit_transform(X_train)\n",
    "x_test_vec = vectorizer.transform(X_test)\n",
    "\n",
    "cat_new = cat.fit(x_train_vec, y_train)"
   ]
  },
  {
   "cell_type": "code",
   "execution_count": null,
   "metadata": {
    "colab": {
     "base_uri": "https://localhost:8080/"
    },
    "id": "QxOqRQTsn3qY",
    "outputId": "2c35ec11-3d33-471c-a04a-8d901e646f68"
   },
   "outputs": [
    {
     "name": "stdout",
     "output_type": "stream",
     "text": [
      "[[0.12709642 0.87290358]]\n"
     ]
    }
   ],
   "source": [
    "input_txt = preprocess_txt('разогревать растительный масло класть подготовить репчатый лук морковь')\n",
    "vect = vectorizer.transform([\" \".join(input_txt)])\n",
    "prediction = cat_new.predict_proba(vect)\n",
    "print(prediction)"
   ]
  },
  {
   "cell_type": "code",
   "execution_count": null,
   "metadata": {
    "colab": {
     "base_uri": "https://localhost:8080/"
    },
    "id": "OMzN8TXrCtPa",
    "outputId": "803738a7-1a5d-467e-94b0-b7b9955865a4"
   },
   "outputs": [
    {
     "data": {
      "text/plain": [
       "0.9919959979989995"
      ]
     },
     "execution_count": 73,
     "metadata": {},
     "output_type": "execute_result"
    }
   ],
   "source": [
    "from sklearn.metrics import accuracy_score\n",
    "accuracy_score(y_true=y_test, y_pred=cat_new.predict(x_test_vec))"
   ]
  },
  {
   "cell_type": "code",
   "execution_count": null,
   "metadata": {
    "id": "-YMOUaf9EYQe"
   },
   "outputs": [],
   "source": [
    "import pickle\n",
    "with open(path_rec+'cat_new.pkl', 'wb') as f:\n",
    "   pickle.dump(cat_new, f)"
   ]
  },
  {
   "cell_type": "code",
   "execution_count": null,
   "metadata": {
    "id": "6FZrhisBEYQe"
   },
   "outputs": [],
   "source": [
    "with open(path_rec+'cat_new.pkl', 'rb') as f:\n",
    "  cat_new = pickle.load(f)"
   ]
  },
  {
   "cell_type": "code",
   "execution_count": null,
   "metadata": {
    "id": "BfEbTcAICtPd"
   },
   "outputs": [],
   "source": [
    "def embed_txt(txt, idfs, midf):\n",
    "    n_ft = 0\n",
    "    vector_ft = np.zeros(100)\n",
    "    for word in txt:\n",
    "        if word in modelFT.wv:\n",
    "            vector_ft += modelFT.wv[word] * 1 # idfs.get(word, midf)\n",
    "            n_ft += 1 # idfs.get(word, midf)\n",
    "    return vector_ft / n_ft"
   ]
  },
  {
   "cell_type": "markdown",
   "metadata": {
    "id": "abF8fPqbPJfZ"
   },
   "source": [
    "#Подключение бота в телеграм"
   ]
  },
  {
   "cell_type": "code",
   "execution_count": null,
   "metadata": {
    "id": "2h01Oa0dCtPe"
   },
   "outputs": [],
   "source": [
    "import os\n",
    "import logging\n",
    "from telegram import Update\n",
    "from telegram.ext import Updater, CommandHandler, MessageHandler, Filters, CallbackContext"
   ]
  },
  {
   "cell_type": "code",
   "execution_count": null,
   "metadata": {
    "id": "fJ3a6FmBCtPe"
   },
   "outputs": [],
   "source": [
    "BOT_API = '6210462298:AAFmxRwYLsFRX9A-zK5R_f5VFa0wYE27MiQ'\n",
    "updater = Updater(BOT_API, use_context=True)  # Токен API к Telegram\n",
    "dispatcher = updater.dispatcher"
   ]
  },
  {
   "cell_type": "code",
   "execution_count": null,
   "metadata": {
    "id": "zGI-47gLh_Vb"
   },
   "outputs": [],
   "source": [
    "key_time = ['время','час']\n",
    "#key_rec = ['рецепт', 'ингредиент', 'готовить']\n",
    "key_ciao = ['спасибо']\n",
    "def check_in_list(text, key_list):\n",
    "    for w in text:\n",
    "      if w in key_list:\n",
    "        flag = True\n",
    "        break\n",
    "      else:\n",
    "        flag = False\n",
    "    return flag"
   ]
  },
  {
   "cell_type": "code",
   "execution_count": null,
   "metadata": {
    "colab": {
     "base_uri": "https://localhost:8080/"
    },
    "id": "-DqZeH-Xsxjk",
    "outputId": "266cef9f-f45f-4287-b81e-d8caa9db633c"
   },
   "outputs": [
    {
     "name": "stdout",
     "output_type": "stream",
     "text": [
      "['сколько', 'время']\n"
     ]
    }
   ],
   "source": [
    "print(preprocess_txt1('сколько времени'))"
   ]
  },
  {
   "cell_type": "code",
   "execution_count": null,
   "metadata": {
    "colab": {
     "base_uri": "https://localhost:8080/"
    },
    "id": "xma_P8rmPp94",
    "outputId": "4fd9c49f-cb96-4550-99f8-771fac76f13e"
   },
   "outputs": [
    {
     "data": {
      "text/plain": [
       "True"
      ]
     },
     "execution_count": 113,
     "metadata": {},
     "output_type": "execute_result"
    }
   ],
   "source": [
    "check_in_list(['сколько', 'время'], key_time)"
   ]
  },
  {
   "cell_type": "code",
   "execution_count": null,
   "metadata": {
    "id": "6XACl8ax9cr_"
   },
   "outputs": [],
   "source": [
    "import datetime"
   ]
  },
  {
   "cell_type": "code",
   "execution_count": null,
   "metadata": {
    "id": "PODb48beOLMm"
   },
   "outputs": [],
   "source": [
    "# тестирую финальную функцию\n",
    "def process(text):\n",
    "    input_txt = preprocess_txt(text)\n",
    "    input_txt1 = preprocess_txt1(text)\n",
    "    print(input_txt1) #без стоп-слов\n",
    "    vect = vectorizer.transform([\" \".join(input_txt)])\n",
    "    prediction = cat_new.predict(vect)\n",
    "    print(prediction)\n",
    "    \n",
    "    if check_in_list(input_txt1, key_time): \n",
    "      \n",
    "        now = datetime.datetime.now()       \n",
    "        print(now.strftime(\"%d-%m-%Y %H:%M\"))\n",
    "        return\n",
    "    \n",
    "    if check_in_list(input_txt1, key_ciao): \n",
    "            \n",
    "        print('Рад был помочь!')\n",
    "        return\n",
    "    pred = cat_new.predict_proba(vect)\n",
    "    print(pred)\n",
    "    if prediction == 0:\n",
    "        vect_ft = embed_txt(input_txt, {}, 1)\n",
    "        ft_index_val, distances = ft_index.get_nns_by_vector(vect_ft, 1, include_distances=True)\n",
    "        if distances[0] > 0.45:\n",
    "          print(distances[0])\n",
    "          print(\"К сожалению, не могу понять вас :(\")\n",
    "          return\n",
    "        print(index_map[ft_index_val[0]])\n",
    "        return\n",
    "    \n",
    "    \n",
    "    #if prediction[0] == 1:\n",
    "        #gpt_generate(update.message.text)\n",
    "\n",
    "    print(gpt_generate(text))"
   ]
  },
  {
   "cell_type": "code",
   "execution_count": null,
   "metadata": {
    "colab": {
     "base_uri": "https://localhost:8080/"
    },
    "id": "nTdwOd8QOhO5",
    "outputId": "f85f0d34-29c9-4ba6-a6a0-a830c1eaf789"
   },
   "outputs": [
    {
     "name": "stdout",
     "output_type": "stream",
     "text": [
      "['разогревать', 'растительный', 'масло', 'класть', 'подготовить', 'репчатый', 'лук', 'морковь']\n"
     ]
    },
    {
     "name": "stderr",
     "output_type": "stream",
     "text": [
      "Setting `pad_token_id` to `eos_token_id`:50256 for open-end generation.\n"
     ]
    },
    {
     "name": "stdout",
     "output_type": "stream",
     "text": [
      "[1.]\n",
      "[[0.12709642 0.87290358]]\n",
      "разогревать растительный масло класть подготовить репчатый лук морковь и картофель.  2. В кипящий бульон добавить нарезанный кубиками картофель, варить до готовности картофеля (около 10 минут).  3. Добавить лавровый лист, перец горошком, соль по вкусу.  4. Варить на мед\n"
     ]
    }
   ],
   "source": [
    "process('разогревать растительный масло класть подготовить репчатый лук морковь')"
   ]
  },
  {
   "cell_type": "code",
   "execution_count": null,
   "metadata": {
    "colab": {
     "base_uri": "https://localhost:8080/"
    },
    "id": "DsJTt37BPLDU",
    "outputId": "c6cc1dd4-949a-49ea-9068-717cc44280af"
   },
   "outputs": [
    {
     "name": "stdout",
     "output_type": "stream",
     "text": [
      "['который', 'час']\n",
      "[0.]\n",
      "06-07-2022 11:35\n"
     ]
    }
   ],
   "source": [
    "process('который час')"
   ]
  },
  {
   "cell_type": "code",
   "execution_count": null,
   "metadata": {
    "colab": {
     "base_uri": "https://localhost:8080/"
    },
    "id": "Kfmg83jhRlAB",
    "outputId": "5aec1056-5c99-4ea1-9641-b7fb07567a16"
   },
   "outputs": [
    {
     "name": "stdout",
     "output_type": "stream",
     "text": [
      "['потерять', 'ключ', 'что', 'делать']\n",
      "[0.]\n",
      "[[0.99102441 0.00897559]]\n",
      "Потеря ключей? Ничего страшного! У меня всегда забит в телефон телефонный номер взломщика замков. Парень работает чистенько. Плату берёт в зависимости от сложности замка. От 300-т до 700 рублей. Затем - прямиком в магазин за новым замком! Есть ещё один вариант - вызвать слесаря-сантехника из управляющей компании. Но это обойдётся значительно дороже: к цене нового замка добавится стоимость новой двери и её установки.. \n",
      "\n"
     ]
    }
   ],
   "source": [
    "process('потерял ключи что делать')"
   ]
  },
  {
   "cell_type": "code",
   "execution_count": null,
   "metadata": {
    "colab": {
     "base_uri": "https://localhost:8080/"
    },
    "id": "_bmZPl7vXm-R",
    "outputId": "290c12ea-5695-4c60-f59a-f42c786be364"
   },
   "outputs": [
    {
     "name": "stdout",
     "output_type": "stream",
     "text": [
      "['спасибо']\n",
      "[0.]\n",
      "Рад был помочь!\n"
     ]
    }
   ],
   "source": [
    "process('спасибо')"
   ]
  },
  {
   "cell_type": "code",
   "execution_count": null,
   "metadata": {
    "id": "viy-MjTVCtPf"
   },
   "outputs": [],
   "source": [
    "def startCommand(update: Update, context: CallbackContext):\n",
    "    update.message.reply_text('Здравствуйте! Я могу подсказать точное время, рассказать как приготовить блюдо или просто поболтать')\n",
    "\n",
    "def textMessage(update: Update, context: CallbackContext):\n",
    "    input_txt = preprocess_txt(update.message.text)\n",
    "    input_txt1 = preprocess_txt1(update.message.text) #без стоп-слов\n",
    "    vect = vectorizer.transform([\" \".join(input_txt)])\n",
    "    prediction = cat_new.predict(vect)\n",
    "    #print(prediction)\n",
    "    \n",
    "    if check_in_list(input_txt1, key_ciao): \n",
    "            \n",
    "        update.message.reply_text('Рад был помочь!')\n",
    "        return\n",
    "    \n",
    "    if check_in_list(input_txt1, key_time): \n",
    "      \n",
    "        now = datetime.datetime.now()       \n",
    "        update.message.reply_text(now.strftime(\"%d-%m-%Y %H:%M\"))\n",
    "        return\n",
    "\n",
    "    #pred = lr_new.predict_proba(vect)\n",
    "    #print(pred)\n",
    "    if prediction == 0:\n",
    "        vect_ft = embed_txt(input_txt, {}, 1)\n",
    "        ft_index_val, distances = ft_index.get_nns_by_vector(vect_ft, 1, include_distances=True)\n",
    "        if distances[0] > 0.45:\n",
    "          print(distances[0])\n",
    "          update.message.reply_text(\"Пожалуйста, уточните, что вы хотели этим сказать\")\n",
    "          return\n",
    "        update.message.reply_text(index_map[ft_index_val[0]])\n",
    "        return\n",
    "    \n",
    "    \n",
    "    #if prediction[0] == 1:\n",
    "        #gpt_generate(update.message.text)\n",
    "\n",
    "    update.message.reply_text(gpt_generate(update.message.text))\n",
    "    "
   ]
  },
  {
   "cell_type": "code",
   "execution_count": null,
   "metadata": {
    "colab": {
     "base_uri": "https://localhost:8080/"
    },
    "id": "RTvrYG0RCtPf",
    "outputId": "525cbfff-983e-4e54-eb2b-15ea9d64c4cc"
   },
   "outputs": [
    {
     "name": "stderr",
     "output_type": "stream",
     "text": [
      "/usr/local/lib/python3.7/dist-packages/ipykernel_launcher.py:8: RuntimeWarning: invalid value encountered in true_divide\n",
      "  \n"
     ]
    },
    {
     "name": "stdout",
     "output_type": "stream",
     "text": [
      "1.4142135381698608\n"
     ]
    }
   ],
   "source": [
    "# on different commands - answer in Telegram\n",
    "dispatcher.add_handler(CommandHandler(\"start\", startCommand))\n",
    "dispatcher.add_handler(MessageHandler(Filters.text & ~Filters.command, textMessage))\n",
    "\n",
    "# Start the Bot\n",
    "updater.start_polling()\n",
    "updater.idle()"
   ]
  }
 ],
 "metadata": {
  "colab": {
   "collapsed_sections": [],
   "include_colab_link": true,
   "name": "Chat-bot_HW_16_NLP.ipynb",
   "provenance": []
  },
  "gpuClass": "standard",
  "kernelspec": {
   "display_name": "Python 3 (ipykernel)",
   "language": "python",
   "name": "python3"
  },
  "language_info": {
   "codemirror_mode": {
    "name": "ipython",
    "version": 3
   },
   "file_extension": ".py",
   "mimetype": "text/x-python",
   "name": "python",
   "nbconvert_exporter": "python",
   "pygments_lexer": "ipython3",
   "version": "3.9.5"
  },
  "widgets": {
   "application/vnd.jupyter.widget-state+json": {
    "028f0efb0ba647379db5fe7b27f2d2b0": {
     "model_module": "@jupyter-widgets/controls",
     "model_module_version": "1.5.0",
     "model_name": "ProgressStyleModel",
     "state": {
      "_model_module": "@jupyter-widgets/controls",
      "_model_module_version": "1.5.0",
      "_model_name": "ProgressStyleModel",
      "_view_count": null,
      "_view_module": "@jupyter-widgets/base",
      "_view_module_version": "1.2.0",
      "_view_name": "StyleView",
      "bar_color": null,
      "description_width": ""
     }
    },
    "02c13d42b21e4842a907c2a832817828": {
     "model_module": "@jupyter-widgets/controls",
     "model_module_version": "1.5.0",
     "model_name": "FloatProgressModel",
     "state": {
      "_dom_classes": [],
      "_model_module": "@jupyter-widgets/controls",
      "_model_module_version": "1.5.0",
      "_model_name": "FloatProgressModel",
      "_view_count": null,
      "_view_module": "@jupyter-widgets/controls",
      "_view_module_version": "1.5.0",
      "_view_name": "ProgressView",
      "bar_style": "success",
      "description": "",
      "description_tooltip": null,
      "layout": "IPY_MODEL_a2b35835975d46a6918f2fa91792e98c",
      "max": 1270925,
      "min": 0,
      "orientation": "horizontal",
      "style": "IPY_MODEL_028f0efb0ba647379db5fe7b27f2d2b0",
      "value": 1270925
     }
    },
    "0444eedd16184c2ea8aae0e0d7f24559": {
     "model_module": "@jupyter-widgets/controls",
     "model_module_version": "1.5.0",
     "model_name": "FloatProgressModel",
     "state": {
      "_dom_classes": [],
      "_model_module": "@jupyter-widgets/controls",
      "_model_module_version": "1.5.0",
      "_model_name": "FloatProgressModel",
      "_view_count": null,
      "_view_module": "@jupyter-widgets/controls",
      "_view_module_version": "1.5.0",
      "_view_name": "ProgressView",
      "bar_style": "success",
      "description": "",
      "description_tooltip": null,
      "layout": "IPY_MODEL_5d8a92aa0843477690cea93b44768311",
      "max": 608,
      "min": 0,
      "orientation": "horizontal",
      "style": "IPY_MODEL_5ebafc31661e49edb508a2239dded463",
      "value": 608
     }
    },
    "07b65703c7bb41f3915efb5fac1c483b": {
     "model_module": "@jupyter-widgets/controls",
     "model_module_version": "1.5.0",
     "model_name": "HBoxModel",
     "state": {
      "_dom_classes": [],
      "_model_module": "@jupyter-widgets/controls",
      "_model_module_version": "1.5.0",
      "_model_name": "HBoxModel",
      "_view_count": null,
      "_view_module": "@jupyter-widgets/controls",
      "_view_module_version": "1.5.0",
      "_view_name": "HBoxView",
      "box_style": "",
      "children": [
       "IPY_MODEL_1bdac4a7b9a844f0b7b5bd1df14917a6",
       "IPY_MODEL_7dde4bd7292a4c9c86ba9faf457f77d7",
       "IPY_MODEL_45d72369dee04aa0999f5aee609b3376"
      ],
      "layout": "IPY_MODEL_322520563df840329a2ff8df15f6b767"
     }
    },
    "0b775ba2278447d78a4416645beee6a6": {
     "model_module": "@jupyter-widgets/controls",
     "model_module_version": "1.5.0",
     "model_name": "DescriptionStyleModel",
     "state": {
      "_model_module": "@jupyter-widgets/controls",
      "_model_module_version": "1.5.0",
      "_model_name": "DescriptionStyleModel",
      "_view_count": null,
      "_view_module": "@jupyter-widgets/base",
      "_view_module_version": "1.2.0",
      "_view_name": "StyleView",
      "description_width": ""
     }
    },
    "0fe0e97fc2a74041805a6b343873ca58": {
     "model_module": "@jupyter-widgets/controls",
     "model_module_version": "1.5.0",
     "model_name": "DescriptionStyleModel",
     "state": {
      "_model_module": "@jupyter-widgets/controls",
      "_model_module_version": "1.5.0",
      "_model_name": "DescriptionStyleModel",
      "_view_count": null,
      "_view_module": "@jupyter-widgets/base",
      "_view_module_version": "1.2.0",
      "_view_name": "StyleView",
      "description_width": ""
     }
    },
    "126d2342c72c4434901485b77176daaf": {
     "model_module": "@jupyter-widgets/controls",
     "model_module_version": "1.5.0",
     "model_name": "DescriptionStyleModel",
     "state": {
      "_model_module": "@jupyter-widgets/controls",
      "_model_module_version": "1.5.0",
      "_model_name": "DescriptionStyleModel",
      "_view_count": null,
      "_view_module": "@jupyter-widgets/base",
      "_view_module_version": "1.2.0",
      "_view_name": "StyleView",
      "description_width": ""
     }
    },
    "178e421c5fbc495b9fee413597178b0b": {
     "model_module": "@jupyter-widgets/controls",
     "model_module_version": "1.5.0",
     "model_name": "FloatProgressModel",
     "state": {
      "_dom_classes": [],
      "_model_module": "@jupyter-widgets/controls",
      "_model_module_version": "1.5.0",
      "_model_name": "FloatProgressModel",
      "_view_count": null,
      "_view_module": "@jupyter-widgets/controls",
      "_view_module_version": "1.5.0",
      "_view_name": "ProgressView",
      "bar_style": "danger",
      "description": "",
      "description_tooltip": null,
      "layout": "IPY_MODEL_d82786e385154964a9f4086e33d533b9",
      "max": 1,
      "min": 0,
      "orientation": "horizontal",
      "style": "IPY_MODEL_1f4fbbfe88534b2984d993b15552e891",
      "value": 1
     }
    },
    "196cbb13fa6945d4bde2f403b3243f12": {
     "model_module": "@jupyter-widgets/controls",
     "model_module_version": "1.5.0",
     "model_name": "DescriptionStyleModel",
     "state": {
      "_model_module": "@jupyter-widgets/controls",
      "_model_module_version": "1.5.0",
      "_model_name": "DescriptionStyleModel",
      "_view_count": null,
      "_view_module": "@jupyter-widgets/base",
      "_view_module_version": "1.2.0",
      "_view_name": "StyleView",
      "description_width": ""
     }
    },
    "19a5a8e2e2174b4b9e85794beb7d80bb": {
     "model_module": "@jupyter-widgets/base",
     "model_module_version": "1.2.0",
     "model_name": "LayoutModel",
     "state": {
      "_model_module": "@jupyter-widgets/base",
      "_model_module_version": "1.2.0",
      "_model_name": "LayoutModel",
      "_view_count": null,
      "_view_module": "@jupyter-widgets/base",
      "_view_module_version": "1.2.0",
      "_view_name": "LayoutView",
      "align_content": null,
      "align_items": null,
      "align_self": null,
      "border": null,
      "bottom": null,
      "display": null,
      "flex": null,
      "flex_flow": null,
      "grid_area": null,
      "grid_auto_columns": null,
      "grid_auto_flow": null,
      "grid_auto_rows": null,
      "grid_column": null,
      "grid_gap": null,
      "grid_row": null,
      "grid_template_areas": null,
      "grid_template_columns": null,
      "grid_template_rows": null,
      "height": null,
      "justify_content": null,
      "justify_items": null,
      "left": null,
      "margin": null,
      "max_height": null,
      "max_width": null,
      "min_height": null,
      "min_width": null,
      "object_fit": null,
      "object_position": null,
      "order": null,
      "overflow": null,
      "overflow_x": null,
      "overflow_y": null,
      "padding": null,
      "right": null,
      "top": null,
      "visibility": null,
      "width": null
     }
    },
    "1a044b15892b42229a7cb039683f73c4": {
     "model_module": "@jupyter-widgets/base",
     "model_module_version": "1.2.0",
     "model_name": "LayoutModel",
     "state": {
      "_model_module": "@jupyter-widgets/base",
      "_model_module_version": "1.2.0",
      "_model_name": "LayoutModel",
      "_view_count": null,
      "_view_module": "@jupyter-widgets/base",
      "_view_module_version": "1.2.0",
      "_view_name": "LayoutView",
      "align_content": null,
      "align_items": null,
      "align_self": null,
      "border": null,
      "bottom": null,
      "display": null,
      "flex": null,
      "flex_flow": null,
      "grid_area": null,
      "grid_auto_columns": null,
      "grid_auto_flow": null,
      "grid_auto_rows": null,
      "grid_column": null,
      "grid_gap": null,
      "grid_row": null,
      "grid_template_areas": null,
      "grid_template_columns": null,
      "grid_template_rows": null,
      "height": null,
      "justify_content": null,
      "justify_items": null,
      "left": null,
      "margin": null,
      "max_height": null,
      "max_width": null,
      "min_height": null,
      "min_width": null,
      "object_fit": null,
      "object_position": null,
      "order": null,
      "overflow": null,
      "overflow_x": null,
      "overflow_y": null,
      "padding": null,
      "right": null,
      "top": null,
      "visibility": null,
      "width": null
     }
    },
    "1bdac4a7b9a844f0b7b5bd1df14917a6": {
     "model_module": "@jupyter-widgets/controls",
     "model_module_version": "1.5.0",
     "model_name": "HTMLModel",
     "state": {
      "_dom_classes": [],
      "_model_module": "@jupyter-widgets/controls",
      "_model_module_version": "1.5.0",
      "_model_name": "HTMLModel",
      "_view_count": null,
      "_view_module": "@jupyter-widgets/controls",
      "_view_module_version": "1.5.0",
      "_view_name": "HTMLView",
      "description": "",
      "description_tooltip": null,
      "layout": "IPY_MODEL_62ef357ddbff4fc2a16a9ac5fac1a17c",
      "placeholder": "​",
      "style": "IPY_MODEL_5c12481f84064a68848a9c519bbc84de",
      "value": "Downloading: 100%"
     }
    },
    "1ecd61e01f29404a80c406baf3c06891": {
     "model_module": "@jupyter-widgets/controls",
     "model_module_version": "1.5.0",
     "model_name": "HTMLModel",
     "state": {
      "_dom_classes": [],
      "_model_module": "@jupyter-widgets/controls",
      "_model_module_version": "1.5.0",
      "_model_name": "HTMLModel",
      "_view_count": null,
      "_view_module": "@jupyter-widgets/controls",
      "_view_module_version": "1.5.0",
      "_view_name": "HTMLView",
      "description": "",
      "description_tooltip": null,
      "layout": "IPY_MODEL_bd0dd4ad223440819f6e3eeb3abbbe6a",
      "placeholder": "​",
      "style": "IPY_MODEL_7ed108833e8145d08e1c2e28a9ecc8d6",
      "value": " 7550926/? [00:27&lt;00:00, 383084.16it/s]"
     }
    },
    "1f4fbbfe88534b2984d993b15552e891": {
     "model_module": "@jupyter-widgets/controls",
     "model_module_version": "1.5.0",
     "model_name": "ProgressStyleModel",
     "state": {
      "_model_module": "@jupyter-widgets/controls",
      "_model_module_version": "1.5.0",
      "_model_name": "ProgressStyleModel",
      "_view_count": null,
      "_view_module": "@jupyter-widgets/base",
      "_view_module_version": "1.2.0",
      "_view_name": "StyleView",
      "bar_color": null,
      "description_width": ""
     }
    },
    "218785ac326f4f0c85f6cec2fb057b61": {
     "model_module": "@jupyter-widgets/controls",
     "model_module_version": "1.5.0",
     "model_name": "HBoxModel",
     "state": {
      "_dom_classes": [],
      "_model_module": "@jupyter-widgets/controls",
      "_model_module_version": "1.5.0",
      "_model_name": "HBoxModel",
      "_view_count": null,
      "_view_module": "@jupyter-widgets/controls",
      "_view_module_version": "1.5.0",
      "_view_name": "HBoxView",
      "box_style": "",
      "children": [
       "IPY_MODEL_cdd0fc76dfae48bbac646ed7a4011bdb",
       "IPY_MODEL_9cef90479997465eac7f96853e89047a",
       "IPY_MODEL_29eaae6576f04260b067d8823911657c"
      ],
      "layout": "IPY_MODEL_a0c1151afebb4eac878e45e1e59bade6"
     }
    },
    "29eaae6576f04260b067d8823911657c": {
     "model_module": "@jupyter-widgets/controls",
     "model_module_version": "1.5.0",
     "model_name": "HTMLModel",
     "state": {
      "_dom_classes": [],
      "_model_module": "@jupyter-widgets/controls",
      "_model_module_version": "1.5.0",
      "_model_name": "HTMLModel",
      "_view_count": null,
      "_view_module": "@jupyter-widgets/controls",
      "_view_module_version": "1.5.0",
      "_view_name": "HTMLView",
      "description": "",
      "description_tooltip": null,
      "layout": "IPY_MODEL_5d62dd5a00bd40abb8541a5f1d4d47fb",
      "placeholder": "​",
      "style": "IPY_MODEL_126d2342c72c4434901485b77176daaf",
      "value": " 1163342/? [1:29:34&lt;00:00, 210.00it/s]"
     }
    },
    "2e2b32f7f1fd4fb299876f1a9ea61adc": {
     "model_module": "@jupyter-widgets/base",
     "model_module_version": "1.2.0",
     "model_name": "LayoutModel",
     "state": {
      "_model_module": "@jupyter-widgets/base",
      "_model_module_version": "1.2.0",
      "_model_name": "LayoutModel",
      "_view_count": null,
      "_view_module": "@jupyter-widgets/base",
      "_view_module_version": "1.2.0",
      "_view_name": "LayoutView",
      "align_content": null,
      "align_items": null,
      "align_self": null,
      "border": null,
      "bottom": null,
      "display": null,
      "flex": null,
      "flex_flow": null,
      "grid_area": null,
      "grid_auto_columns": null,
      "grid_auto_flow": null,
      "grid_auto_rows": null,
      "grid_column": null,
      "grid_gap": null,
      "grid_row": null,
      "grid_template_areas": null,
      "grid_template_columns": null,
      "grid_template_rows": null,
      "height": null,
      "justify_content": null,
      "justify_items": null,
      "left": null,
      "margin": null,
      "max_height": null,
      "max_width": null,
      "min_height": null,
      "min_width": null,
      "object_fit": null,
      "object_position": null,
      "order": null,
      "overflow": null,
      "overflow_x": null,
      "overflow_y": null,
      "padding": null,
      "right": null,
      "top": null,
      "visibility": null,
      "width": null
     }
    },
    "3134b350d57b4396ab5e8e4f9566b0f8": {
     "model_module": "@jupyter-widgets/controls",
     "model_module_version": "1.5.0",
     "model_name": "ProgressStyleModel",
     "state": {
      "_model_module": "@jupyter-widgets/controls",
      "_model_module_version": "1.5.0",
      "_model_name": "ProgressStyleModel",
      "_view_count": null,
      "_view_module": "@jupyter-widgets/base",
      "_view_module_version": "1.2.0",
      "_view_name": "StyleView",
      "bar_color": null,
      "description_width": ""
     }
    },
    "322520563df840329a2ff8df15f6b767": {
     "model_module": "@jupyter-widgets/base",
     "model_module_version": "1.2.0",
     "model_name": "LayoutModel",
     "state": {
      "_model_module": "@jupyter-widgets/base",
      "_model_module_version": "1.2.0",
      "_model_name": "LayoutModel",
      "_view_count": null,
      "_view_module": "@jupyter-widgets/base",
      "_view_module_version": "1.2.0",
      "_view_name": "LayoutView",
      "align_content": null,
      "align_items": null,
      "align_self": null,
      "border": null,
      "bottom": null,
      "display": null,
      "flex": null,
      "flex_flow": null,
      "grid_area": null,
      "grid_auto_columns": null,
      "grid_auto_flow": null,
      "grid_auto_rows": null,
      "grid_column": null,
      "grid_gap": null,
      "grid_row": null,
      "grid_template_areas": null,
      "grid_template_columns": null,
      "grid_template_rows": null,
      "height": null,
      "justify_content": null,
      "justify_items": null,
      "left": null,
      "margin": null,
      "max_height": null,
      "max_width": null,
      "min_height": null,
      "min_width": null,
      "object_fit": null,
      "object_position": null,
      "order": null,
      "overflow": null,
      "overflow_x": null,
      "overflow_y": null,
      "padding": null,
      "right": null,
      "top": null,
      "visibility": null,
      "width": null
     }
    },
    "3471913e941b40d1946f40f4830b3733": {
     "model_module": "@jupyter-widgets/controls",
     "model_module_version": "1.5.0",
     "model_name": "DescriptionStyleModel",
     "state": {
      "_model_module": "@jupyter-widgets/controls",
      "_model_module_version": "1.5.0",
      "_model_name": "DescriptionStyleModel",
      "_view_count": null,
      "_view_module": "@jupyter-widgets/base",
      "_view_module_version": "1.2.0",
      "_view_name": "StyleView",
      "description_width": ""
     }
    },
    "3781d9c0c55f4f5892fd7296bb9428f5": {
     "model_module": "@jupyter-widgets/controls",
     "model_module_version": "1.5.0",
     "model_name": "HBoxModel",
     "state": {
      "_dom_classes": [],
      "_model_module": "@jupyter-widgets/controls",
      "_model_module_version": "1.5.0",
      "_model_name": "HBoxModel",
      "_view_count": null,
      "_view_module": "@jupyter-widgets/controls",
      "_view_module_version": "1.5.0",
      "_view_name": "HBoxView",
      "box_style": "",
      "children": [
       "IPY_MODEL_a4b50fff6dbd4ee2b739596fdcabefb1",
       "IPY_MODEL_62a854f6690b4d649415891d8dbccaca",
       "IPY_MODEL_1ecd61e01f29404a80c406baf3c06891"
      ],
      "layout": "IPY_MODEL_f2322dc0bda64b2a997e0b7cfa69bdf5"
     }
    },
    "39c4cda45b3a4de6b6c8974d12d357e0": {
     "model_module": "@jupyter-widgets/base",
     "model_module_version": "1.2.0",
     "model_name": "LayoutModel",
     "state": {
      "_model_module": "@jupyter-widgets/base",
      "_model_module_version": "1.2.0",
      "_model_name": "LayoutModel",
      "_view_count": null,
      "_view_module": "@jupyter-widgets/base",
      "_view_module_version": "1.2.0",
      "_view_name": "LayoutView",
      "align_content": null,
      "align_items": null,
      "align_self": null,
      "border": null,
      "bottom": null,
      "display": null,
      "flex": null,
      "flex_flow": null,
      "grid_area": null,
      "grid_auto_columns": null,
      "grid_auto_flow": null,
      "grid_auto_rows": null,
      "grid_column": null,
      "grid_gap": null,
      "grid_row": null,
      "grid_template_areas": null,
      "grid_template_columns": null,
      "grid_template_rows": null,
      "height": null,
      "justify_content": null,
      "justify_items": null,
      "left": null,
      "margin": null,
      "max_height": null,
      "max_width": null,
      "min_height": null,
      "min_width": null,
      "object_fit": null,
      "object_position": null,
      "order": null,
      "overflow": null,
      "overflow_x": null,
      "overflow_y": null,
      "padding": null,
      "right": null,
      "top": null,
      "visibility": null,
      "width": null
     }
    },
    "3d4f2b4ac8ee4686a147fb34f8bf44ab": {
     "model_module": "@jupyter-widgets/controls",
     "model_module_version": "1.5.0",
     "model_name": "ProgressStyleModel",
     "state": {
      "_model_module": "@jupyter-widgets/controls",
      "_model_module_version": "1.5.0",
      "_model_name": "ProgressStyleModel",
      "_view_count": null,
      "_view_module": "@jupyter-widgets/base",
      "_view_module_version": "1.2.0",
      "_view_name": "StyleView",
      "bar_color": null,
      "description_width": ""
     }
    },
    "3d938795b3374cb89a03ddfe3c209ee5": {
     "model_module": "@jupyter-widgets/base",
     "model_module_version": "1.2.0",
     "model_name": "LayoutModel",
     "state": {
      "_model_module": "@jupyter-widgets/base",
      "_model_module_version": "1.2.0",
      "_model_name": "LayoutModel",
      "_view_count": null,
      "_view_module": "@jupyter-widgets/base",
      "_view_module_version": "1.2.0",
      "_view_name": "LayoutView",
      "align_content": null,
      "align_items": null,
      "align_self": null,
      "border": null,
      "bottom": null,
      "display": null,
      "flex": null,
      "flex_flow": null,
      "grid_area": null,
      "grid_auto_columns": null,
      "grid_auto_flow": null,
      "grid_auto_rows": null,
      "grid_column": null,
      "grid_gap": null,
      "grid_row": null,
      "grid_template_areas": null,
      "grid_template_columns": null,
      "grid_template_rows": null,
      "height": null,
      "justify_content": null,
      "justify_items": null,
      "left": null,
      "margin": null,
      "max_height": null,
      "max_width": null,
      "min_height": null,
      "min_width": null,
      "object_fit": null,
      "object_position": null,
      "order": null,
      "overflow": null,
      "overflow_x": null,
      "overflow_y": null,
      "padding": null,
      "right": null,
      "top": null,
      "visibility": null,
      "width": null
     }
    },
    "410be7ceee224ab4994c922e461c6cbf": {
     "model_module": "@jupyter-widgets/controls",
     "model_module_version": "1.5.0",
     "model_name": "HTMLModel",
     "state": {
      "_dom_classes": [],
      "_model_module": "@jupyter-widgets/controls",
      "_model_module_version": "1.5.0",
      "_model_name": "HTMLModel",
      "_view_count": null,
      "_view_module": "@jupyter-widgets/controls",
      "_view_module_version": "1.5.0",
      "_view_name": "HTMLView",
      "description": "",
      "description_tooltip": null,
      "layout": "IPY_MODEL_1a044b15892b42229a7cb039683f73c4",
      "placeholder": "​",
      "style": "IPY_MODEL_59258fe00f874ecabba012181e4762cb",
      "value": "Downloading: 100%"
     }
    },
    "421e42e3dc934346b40c11cd20f1f080": {
     "model_module": "@jupyter-widgets/base",
     "model_module_version": "1.2.0",
     "model_name": "LayoutModel",
     "state": {
      "_model_module": "@jupyter-widgets/base",
      "_model_module_version": "1.2.0",
      "_model_name": "LayoutModel",
      "_view_count": null,
      "_view_module": "@jupyter-widgets/base",
      "_view_module_version": "1.2.0",
      "_view_name": "LayoutView",
      "align_content": null,
      "align_items": null,
      "align_self": null,
      "border": null,
      "bottom": null,
      "display": null,
      "flex": null,
      "flex_flow": null,
      "grid_area": null,
      "grid_auto_columns": null,
      "grid_auto_flow": null,
      "grid_auto_rows": null,
      "grid_column": null,
      "grid_gap": null,
      "grid_row": null,
      "grid_template_areas": null,
      "grid_template_columns": null,
      "grid_template_rows": null,
      "height": null,
      "justify_content": null,
      "justify_items": null,
      "left": null,
      "margin": null,
      "max_height": null,
      "max_width": null,
      "min_height": null,
      "min_width": null,
      "object_fit": null,
      "object_position": null,
      "order": null,
      "overflow": null,
      "overflow_x": null,
      "overflow_y": null,
      "padding": null,
      "right": null,
      "top": null,
      "visibility": null,
      "width": null
     }
    },
    "45d72369dee04aa0999f5aee609b3376": {
     "model_module": "@jupyter-widgets/controls",
     "model_module_version": "1.5.0",
     "model_name": "HTMLModel",
     "state": {
      "_dom_classes": [],
      "_model_module": "@jupyter-widgets/controls",
      "_model_module_version": "1.5.0",
      "_model_name": "HTMLModel",
      "_view_count": null,
      "_view_module": "@jupyter-widgets/controls",
      "_view_module_version": "1.5.0",
      "_view_name": "HTMLView",
      "description": "",
      "description_tooltip": null,
      "layout": "IPY_MODEL_dbb7742ed97c4ef8978ce1c36b39ada1",
      "placeholder": "​",
      "style": "IPY_MODEL_196cbb13fa6945d4bde2f403b3243f12",
      "value": " 1.63M/1.63M [00:01&lt;00:00, 2.19MB/s]"
     }
    },
    "49a13c1f12494ee69b2d4651ab4e7472": {
     "model_module": "@jupyter-widgets/controls",
     "model_module_version": "1.5.0",
     "model_name": "HBoxModel",
     "state": {
      "_dom_classes": [],
      "_model_module": "@jupyter-widgets/controls",
      "_model_module_version": "1.5.0",
      "_model_name": "HBoxModel",
      "_view_count": null,
      "_view_module": "@jupyter-widgets/controls",
      "_view_module_version": "1.5.0",
      "_view_name": "HBoxView",
      "box_style": "",
      "children": [
       "IPY_MODEL_7b3e2bdfb9ae406fa7394e570d235176",
       "IPY_MODEL_178e421c5fbc495b9fee413597178b0b",
       "IPY_MODEL_ef93a5dabb554736b22b53e613269e96"
      ],
      "layout": "IPY_MODEL_bc63860a30e34fec9dd5bdca2be5bc12"
     }
    },
    "53536a91d717481680ea5d73508dce46": {
     "model_module": "@jupyter-widgets/base",
     "model_module_version": "1.2.0",
     "model_name": "LayoutModel",
     "state": {
      "_model_module": "@jupyter-widgets/base",
      "_model_module_version": "1.2.0",
      "_model_name": "LayoutModel",
      "_view_count": null,
      "_view_module": "@jupyter-widgets/base",
      "_view_module_version": "1.2.0",
      "_view_name": "LayoutView",
      "align_content": null,
      "align_items": null,
      "align_self": null,
      "border": null,
      "bottom": null,
      "display": null,
      "flex": null,
      "flex_flow": null,
      "grid_area": null,
      "grid_auto_columns": null,
      "grid_auto_flow": null,
      "grid_auto_rows": null,
      "grid_column": null,
      "grid_gap": null,
      "grid_row": null,
      "grid_template_areas": null,
      "grid_template_columns": null,
      "grid_template_rows": null,
      "height": null,
      "justify_content": null,
      "justify_items": null,
      "left": null,
      "margin": null,
      "max_height": null,
      "max_width": null,
      "min_height": null,
      "min_width": null,
      "object_fit": null,
      "object_position": null,
      "order": null,
      "overflow": null,
      "overflow_x": null,
      "overflow_y": null,
      "padding": null,
      "right": null,
      "top": null,
      "visibility": null,
      "width": null
     }
    },
    "59258fe00f874ecabba012181e4762cb": {
     "model_module": "@jupyter-widgets/controls",
     "model_module_version": "1.5.0",
     "model_name": "DescriptionStyleModel",
     "state": {
      "_model_module": "@jupyter-widgets/controls",
      "_model_module_version": "1.5.0",
      "_model_name": "DescriptionStyleModel",
      "_view_count": null,
      "_view_module": "@jupyter-widgets/base",
      "_view_module_version": "1.2.0",
      "_view_name": "StyleView",
      "description_width": ""
     }
    },
    "5c12481f84064a68848a9c519bbc84de": {
     "model_module": "@jupyter-widgets/controls",
     "model_module_version": "1.5.0",
     "model_name": "DescriptionStyleModel",
     "state": {
      "_model_module": "@jupyter-widgets/controls",
      "_model_module_version": "1.5.0",
      "_model_name": "DescriptionStyleModel",
      "_view_count": null,
      "_view_module": "@jupyter-widgets/base",
      "_view_module_version": "1.2.0",
      "_view_name": "StyleView",
      "description_width": ""
     }
    },
    "5d62dd5a00bd40abb8541a5f1d4d47fb": {
     "model_module": "@jupyter-widgets/base",
     "model_module_version": "1.2.0",
     "model_name": "LayoutModel",
     "state": {
      "_model_module": "@jupyter-widgets/base",
      "_model_module_version": "1.2.0",
      "_model_name": "LayoutModel",
      "_view_count": null,
      "_view_module": "@jupyter-widgets/base",
      "_view_module_version": "1.2.0",
      "_view_name": "LayoutView",
      "align_content": null,
      "align_items": null,
      "align_self": null,
      "border": null,
      "bottom": null,
      "display": null,
      "flex": null,
      "flex_flow": null,
      "grid_area": null,
      "grid_auto_columns": null,
      "grid_auto_flow": null,
      "grid_auto_rows": null,
      "grid_column": null,
      "grid_gap": null,
      "grid_row": null,
      "grid_template_areas": null,
      "grid_template_columns": null,
      "grid_template_rows": null,
      "height": null,
      "justify_content": null,
      "justify_items": null,
      "left": null,
      "margin": null,
      "max_height": null,
      "max_width": null,
      "min_height": null,
      "min_width": null,
      "object_fit": null,
      "object_position": null,
      "order": null,
      "overflow": null,
      "overflow_x": null,
      "overflow_y": null,
      "padding": null,
      "right": null,
      "top": null,
      "visibility": null,
      "width": null
     }
    },
    "5d8a92aa0843477690cea93b44768311": {
     "model_module": "@jupyter-widgets/base",
     "model_module_version": "1.2.0",
     "model_name": "LayoutModel",
     "state": {
      "_model_module": "@jupyter-widgets/base",
      "_model_module_version": "1.2.0",
      "_model_name": "LayoutModel",
      "_view_count": null,
      "_view_module": "@jupyter-widgets/base",
      "_view_module_version": "1.2.0",
      "_view_name": "LayoutView",
      "align_content": null,
      "align_items": null,
      "align_self": null,
      "border": null,
      "bottom": null,
      "display": null,
      "flex": null,
      "flex_flow": null,
      "grid_area": null,
      "grid_auto_columns": null,
      "grid_auto_flow": null,
      "grid_auto_rows": null,
      "grid_column": null,
      "grid_gap": null,
      "grid_row": null,
      "grid_template_areas": null,
      "grid_template_columns": null,
      "grid_template_rows": null,
      "height": null,
      "justify_content": null,
      "justify_items": null,
      "left": null,
      "margin": null,
      "max_height": null,
      "max_width": null,
      "min_height": null,
      "min_width": null,
      "object_fit": null,
      "object_position": null,
      "order": null,
      "overflow": null,
      "overflow_x": null,
      "overflow_y": null,
      "padding": null,
      "right": null,
      "top": null,
      "visibility": null,
      "width": null
     }
    },
    "5ebafc31661e49edb508a2239dded463": {
     "model_module": "@jupyter-widgets/controls",
     "model_module_version": "1.5.0",
     "model_name": "ProgressStyleModel",
     "state": {
      "_model_module": "@jupyter-widgets/controls",
      "_model_module_version": "1.5.0",
      "_model_name": "ProgressStyleModel",
      "_view_count": null,
      "_view_module": "@jupyter-widgets/base",
      "_view_module_version": "1.2.0",
      "_view_name": "StyleView",
      "bar_color": null,
      "description_width": ""
     }
    },
    "62a854f6690b4d649415891d8dbccaca": {
     "model_module": "@jupyter-widgets/controls",
     "model_module_version": "1.5.0",
     "model_name": "FloatProgressModel",
     "state": {
      "_dom_classes": [],
      "_model_module": "@jupyter-widgets/controls",
      "_model_module_version": "1.5.0",
      "_model_name": "FloatProgressModel",
      "_view_count": null,
      "_view_module": "@jupyter-widgets/controls",
      "_view_module_version": "1.5.0",
      "_view_name": "ProgressView",
      "bar_style": "success",
      "description": "",
      "description_tooltip": null,
      "layout": "IPY_MODEL_75d674df9dea4fba9536ee7282d14a89",
      "max": 1,
      "min": 0,
      "orientation": "horizontal",
      "style": "IPY_MODEL_815686a4818d45cab75bbd9acc2263f7",
      "value": 1
     }
    },
    "62ef357ddbff4fc2a16a9ac5fac1a17c": {
     "model_module": "@jupyter-widgets/base",
     "model_module_version": "1.2.0",
     "model_name": "LayoutModel",
     "state": {
      "_model_module": "@jupyter-widgets/base",
      "_model_module_version": "1.2.0",
      "_model_name": "LayoutModel",
      "_view_count": null,
      "_view_module": "@jupyter-widgets/base",
      "_view_module_version": "1.2.0",
      "_view_name": "LayoutView",
      "align_content": null,
      "align_items": null,
      "align_self": null,
      "border": null,
      "bottom": null,
      "display": null,
      "flex": null,
      "flex_flow": null,
      "grid_area": null,
      "grid_auto_columns": null,
      "grid_auto_flow": null,
      "grid_auto_rows": null,
      "grid_column": null,
      "grid_gap": null,
      "grid_row": null,
      "grid_template_areas": null,
      "grid_template_columns": null,
      "grid_template_rows": null,
      "height": null,
      "justify_content": null,
      "justify_items": null,
      "left": null,
      "margin": null,
      "max_height": null,
      "max_width": null,
      "min_height": null,
      "min_width": null,
      "object_fit": null,
      "object_position": null,
      "order": null,
      "overflow": null,
      "overflow_x": null,
      "overflow_y": null,
      "padding": null,
      "right": null,
      "top": null,
      "visibility": null,
      "width": null
     }
    },
    "64a1b1a7ee8c48b1b6ea84d2e0af2400": {
     "model_module": "@jupyter-widgets/controls",
     "model_module_version": "1.5.0",
     "model_name": "HTMLModel",
     "state": {
      "_dom_classes": [],
      "_model_module": "@jupyter-widgets/controls",
      "_model_module_version": "1.5.0",
      "_model_name": "HTMLModel",
      "_view_count": null,
      "_view_module": "@jupyter-widgets/controls",
      "_view_module_version": "1.5.0",
      "_view_name": "HTMLView",
      "description": "",
      "description_tooltip": null,
      "layout": "IPY_MODEL_f9f2553352ca4dbbab399d28a6af6809",
      "placeholder": "​",
      "style": "IPY_MODEL_ee70cceceaea4680aa7a55d5b6df68d6",
      "value": " 608/608 [00:00&lt;00:00, 21.6kB/s]"
     }
    },
    "6e9416bd8f0b478bbe7fa45d411ea693": {
     "model_module": "@jupyter-widgets/controls",
     "model_module_version": "1.5.0",
     "model_name": "DescriptionStyleModel",
     "state": {
      "_model_module": "@jupyter-widgets/controls",
      "_model_module_version": "1.5.0",
      "_model_name": "DescriptionStyleModel",
      "_view_count": null,
      "_view_module": "@jupyter-widgets/base",
      "_view_module_version": "1.2.0",
      "_view_name": "StyleView",
      "description_width": ""
     }
    },
    "6ff589e29d4047a48219d3b4f56ed506": {
     "model_module": "@jupyter-widgets/controls",
     "model_module_version": "1.5.0",
     "model_name": "FloatProgressModel",
     "state": {
      "_dom_classes": [],
      "_model_module": "@jupyter-widgets/controls",
      "_model_module_version": "1.5.0",
      "_model_name": "FloatProgressModel",
      "_view_count": null,
      "_view_module": "@jupyter-widgets/controls",
      "_view_module_version": "1.5.0",
      "_view_name": "ProgressView",
      "bar_style": "success",
      "description": "",
      "description_tooltip": null,
      "layout": "IPY_MODEL_421e42e3dc934346b40c11cd20f1f080",
      "max": 551290714,
      "min": 0,
      "orientation": "horizontal",
      "style": "IPY_MODEL_8ef3e4dfefa045dd8692782abad4f598",
      "value": 551290714
     }
    },
    "731b6d9f08e247cb9f03b30e5a4a1615": {
     "model_module": "@jupyter-widgets/controls",
     "model_module_version": "1.5.0",
     "model_name": "HTMLModel",
     "state": {
      "_dom_classes": [],
      "_model_module": "@jupyter-widgets/controls",
      "_model_module_version": "1.5.0",
      "_model_name": "HTMLModel",
      "_view_count": null,
      "_view_module": "@jupyter-widgets/controls",
      "_view_module_version": "1.5.0",
      "_view_name": "HTMLView",
      "description": "",
      "description_tooltip": null,
      "layout": "IPY_MODEL_c003f5d964724830bbc4740e6021bacf",
      "placeholder": "​",
      "style": "IPY_MODEL_0b775ba2278447d78a4416645beee6a6",
      "value": "Downloading: 100%"
     }
    },
    "75d674df9dea4fba9536ee7282d14a89": {
     "model_module": "@jupyter-widgets/base",
     "model_module_version": "1.2.0",
     "model_name": "LayoutModel",
     "state": {
      "_model_module": "@jupyter-widgets/base",
      "_model_module_version": "1.2.0",
      "_model_name": "LayoutModel",
      "_view_count": null,
      "_view_module": "@jupyter-widgets/base",
      "_view_module_version": "1.2.0",
      "_view_name": "LayoutView",
      "align_content": null,
      "align_items": null,
      "align_self": null,
      "border": null,
      "bottom": null,
      "display": null,
      "flex": null,
      "flex_flow": null,
      "grid_area": null,
      "grid_auto_columns": null,
      "grid_auto_flow": null,
      "grid_auto_rows": null,
      "grid_column": null,
      "grid_gap": null,
      "grid_row": null,
      "grid_template_areas": null,
      "grid_template_columns": null,
      "grid_template_rows": null,
      "height": null,
      "justify_content": null,
      "justify_items": null,
      "left": null,
      "margin": null,
      "max_height": null,
      "max_width": null,
      "min_height": null,
      "min_width": null,
      "object_fit": null,
      "object_position": null,
      "order": null,
      "overflow": null,
      "overflow_x": null,
      "overflow_y": null,
      "padding": null,
      "right": null,
      "top": null,
      "visibility": null,
      "width": "20px"
     }
    },
    "7860b32ff5be492d85424cf691a78b3a": {
     "model_module": "@jupyter-widgets/controls",
     "model_module_version": "1.5.0",
     "model_name": "DescriptionStyleModel",
     "state": {
      "_model_module": "@jupyter-widgets/controls",
      "_model_module_version": "1.5.0",
      "_model_name": "DescriptionStyleModel",
      "_view_count": null,
      "_view_module": "@jupyter-widgets/base",
      "_view_module_version": "1.2.0",
      "_view_name": "StyleView",
      "description_width": ""
     }
    },
    "7a89e2443ea84bce9b21d5ad3e92f133": {
     "model_module": "@jupyter-widgets/base",
     "model_module_version": "1.2.0",
     "model_name": "LayoutModel",
     "state": {
      "_model_module": "@jupyter-widgets/base",
      "_model_module_version": "1.2.0",
      "_model_name": "LayoutModel",
      "_view_count": null,
      "_view_module": "@jupyter-widgets/base",
      "_view_module_version": "1.2.0",
      "_view_name": "LayoutView",
      "align_content": null,
      "align_items": null,
      "align_self": null,
      "border": null,
      "bottom": null,
      "display": null,
      "flex": null,
      "flex_flow": null,
      "grid_area": null,
      "grid_auto_columns": null,
      "grid_auto_flow": null,
      "grid_auto_rows": null,
      "grid_column": null,
      "grid_gap": null,
      "grid_row": null,
      "grid_template_areas": null,
      "grid_template_columns": null,
      "grid_template_rows": null,
      "height": null,
      "justify_content": null,
      "justify_items": null,
      "left": null,
      "margin": null,
      "max_height": null,
      "max_width": null,
      "min_height": null,
      "min_width": null,
      "object_fit": null,
      "object_position": null,
      "order": null,
      "overflow": null,
      "overflow_x": null,
      "overflow_y": null,
      "padding": null,
      "right": null,
      "top": null,
      "visibility": null,
      "width": null
     }
    },
    "7b3e2bdfb9ae406fa7394e570d235176": {
     "model_module": "@jupyter-widgets/controls",
     "model_module_version": "1.5.0",
     "model_name": "HTMLModel",
     "state": {
      "_dom_classes": [],
      "_model_module": "@jupyter-widgets/controls",
      "_model_module_version": "1.5.0",
      "_model_name": "HTMLModel",
      "_view_count": null,
      "_view_module": "@jupyter-widgets/controls",
      "_view_module_version": "1.5.0",
      "_view_name": "HTMLView",
      "description": "",
      "description_tooltip": null,
      "layout": "IPY_MODEL_7a89e2443ea84bce9b21d5ad3e92f133",
      "placeholder": "​",
      "style": "IPY_MODEL_83904b2acd0c469493d1550c60b31390",
      "value": ""
     }
    },
    "7dde4bd7292a4c9c86ba9faf457f77d7": {
     "model_module": "@jupyter-widgets/controls",
     "model_module_version": "1.5.0",
     "model_name": "FloatProgressModel",
     "state": {
      "_dom_classes": [],
      "_model_module": "@jupyter-widgets/controls",
      "_model_module_version": "1.5.0",
      "_model_name": "FloatProgressModel",
      "_view_count": null,
      "_view_module": "@jupyter-widgets/controls",
      "_view_module_version": "1.5.0",
      "_view_name": "ProgressView",
      "bar_style": "success",
      "description": "",
      "description_tooltip": null,
      "layout": "IPY_MODEL_3d938795b3374cb89a03ddfe3c209ee5",
      "max": 1713123,
      "min": 0,
      "orientation": "horizontal",
      "style": "IPY_MODEL_3134b350d57b4396ab5e8e4f9566b0f8",
      "value": 1713123
     }
    },
    "7ed108833e8145d08e1c2e28a9ecc8d6": {
     "model_module": "@jupyter-widgets/controls",
     "model_module_version": "1.5.0",
     "model_name": "DescriptionStyleModel",
     "state": {
      "_model_module": "@jupyter-widgets/controls",
      "_model_module_version": "1.5.0",
      "_model_name": "DescriptionStyleModel",
      "_view_count": null,
      "_view_module": "@jupyter-widgets/base",
      "_view_module_version": "1.2.0",
      "_view_name": "StyleView",
      "description_width": ""
     }
    },
    "815686a4818d45cab75bbd9acc2263f7": {
     "model_module": "@jupyter-widgets/controls",
     "model_module_version": "1.5.0",
     "model_name": "ProgressStyleModel",
     "state": {
      "_model_module": "@jupyter-widgets/controls",
      "_model_module_version": "1.5.0",
      "_model_name": "ProgressStyleModel",
      "_view_count": null,
      "_view_module": "@jupyter-widgets/base",
      "_view_module_version": "1.2.0",
      "_view_name": "StyleView",
      "bar_color": null,
      "description_width": ""
     }
    },
    "83904b2acd0c469493d1550c60b31390": {
     "model_module": "@jupyter-widgets/controls",
     "model_module_version": "1.5.0",
     "model_name": "DescriptionStyleModel",
     "state": {
      "_model_module": "@jupyter-widgets/controls",
      "_model_module_version": "1.5.0",
      "_model_name": "DescriptionStyleModel",
      "_view_count": null,
      "_view_module": "@jupyter-widgets/base",
      "_view_module_version": "1.2.0",
      "_view_name": "StyleView",
      "description_width": ""
     }
    },
    "87ba9fdc4dc447f9a6f2eaad8d0d933f": {
     "model_module": "@jupyter-widgets/controls",
     "model_module_version": "1.5.0",
     "model_name": "HBoxModel",
     "state": {
      "_dom_classes": [],
      "_model_module": "@jupyter-widgets/controls",
      "_model_module_version": "1.5.0",
      "_model_name": "HBoxModel",
      "_view_count": null,
      "_view_module": "@jupyter-widgets/controls",
      "_view_module_version": "1.5.0",
      "_view_name": "HBoxView",
      "box_style": "",
      "children": [
       "IPY_MODEL_731b6d9f08e247cb9f03b30e5a4a1615",
       "IPY_MODEL_6ff589e29d4047a48219d3b4f56ed506",
       "IPY_MODEL_ad931a41006b466ebc3d956459a69b3f"
      ],
      "layout": "IPY_MODEL_39c4cda45b3a4de6b6c8974d12d357e0"
     }
    },
    "8d0dcfea1d0440ce8772e24dd8ee956e": {
     "model_module": "@jupyter-widgets/controls",
     "model_module_version": "1.5.0",
     "model_name": "HTMLModel",
     "state": {
      "_dom_classes": [],
      "_model_module": "@jupyter-widgets/controls",
      "_model_module_version": "1.5.0",
      "_model_name": "HTMLModel",
      "_view_count": null,
      "_view_module": "@jupyter-widgets/controls",
      "_view_module_version": "1.5.0",
      "_view_name": "HTMLView",
      "description": "",
      "description_tooltip": null,
      "layout": "IPY_MODEL_fff7ae190ae040d3a09f2a54463dd631",
      "placeholder": "​",
      "style": "IPY_MODEL_7860b32ff5be492d85424cf691a78b3a",
      "value": "Downloading: 100%"
     }
    },
    "8d61ed06de1547f5b59d67e09e28f86a": {
     "model_module": "@jupyter-widgets/controls",
     "model_module_version": "1.5.0",
     "model_name": "HTMLModel",
     "state": {
      "_dom_classes": [],
      "_model_module": "@jupyter-widgets/controls",
      "_model_module_version": "1.5.0",
      "_model_name": "HTMLModel",
      "_view_count": null,
      "_view_module": "@jupyter-widgets/controls",
      "_view_module_version": "1.5.0",
      "_view_name": "HTMLView",
      "description": "",
      "description_tooltip": null,
      "layout": "IPY_MODEL_e36785443bf04db185455473db358ad0",
      "placeholder": "​",
      "style": "IPY_MODEL_df5071d2172d4b4cb9a85b7fb6d2d875",
      "value": " 1.21M/1.21M [00:01&lt;00:00, 1.23MB/s]"
     }
    },
    "8ef3e4dfefa045dd8692782abad4f598": {
     "model_module": "@jupyter-widgets/controls",
     "model_module_version": "1.5.0",
     "model_name": "ProgressStyleModel",
     "state": {
      "_model_module": "@jupyter-widgets/controls",
      "_model_module_version": "1.5.0",
      "_model_name": "ProgressStyleModel",
      "_view_count": null,
      "_view_module": "@jupyter-widgets/base",
      "_view_module_version": "1.2.0",
      "_view_name": "StyleView",
      "bar_color": null,
      "description_width": ""
     }
    },
    "91bc20e02b9a4d5a9ca70229addcb176": {
     "model_module": "@jupyter-widgets/base",
     "model_module_version": "1.2.0",
     "model_name": "LayoutModel",
     "state": {
      "_model_module": "@jupyter-widgets/base",
      "_model_module_version": "1.2.0",
      "_model_name": "LayoutModel",
      "_view_count": null,
      "_view_module": "@jupyter-widgets/base",
      "_view_module_version": "1.2.0",
      "_view_name": "LayoutView",
      "align_content": null,
      "align_items": null,
      "align_self": null,
      "border": null,
      "bottom": null,
      "display": null,
      "flex": null,
      "flex_flow": null,
      "grid_area": null,
      "grid_auto_columns": null,
      "grid_auto_flow": null,
      "grid_auto_rows": null,
      "grid_column": null,
      "grid_gap": null,
      "grid_row": null,
      "grid_template_areas": null,
      "grid_template_columns": null,
      "grid_template_rows": null,
      "height": null,
      "justify_content": null,
      "justify_items": null,
      "left": null,
      "margin": null,
      "max_height": null,
      "max_width": null,
      "min_height": null,
      "min_width": null,
      "object_fit": null,
      "object_position": null,
      "order": null,
      "overflow": null,
      "overflow_x": null,
      "overflow_y": null,
      "padding": null,
      "right": null,
      "top": null,
      "visibility": null,
      "width": null
     }
    },
    "9cef90479997465eac7f96853e89047a": {
     "model_module": "@jupyter-widgets/controls",
     "model_module_version": "1.5.0",
     "model_name": "FloatProgressModel",
     "state": {
      "_dom_classes": [],
      "_model_module": "@jupyter-widgets/controls",
      "_model_module_version": "1.5.0",
      "_model_name": "FloatProgressModel",
      "_view_count": null,
      "_view_module": "@jupyter-widgets/controls",
      "_view_module_version": "1.5.0",
      "_view_name": "ProgressView",
      "bar_style": "success",
      "description": "",
      "description_tooltip": null,
      "layout": "IPY_MODEL_9dba5cdf62944c39bf3046700b48217f",
      "max": 1,
      "min": 0,
      "orientation": "horizontal",
      "style": "IPY_MODEL_3d4f2b4ac8ee4686a147fb34f8bf44ab",
      "value": 1
     }
    },
    "9dba5cdf62944c39bf3046700b48217f": {
     "model_module": "@jupyter-widgets/base",
     "model_module_version": "1.2.0",
     "model_name": "LayoutModel",
     "state": {
      "_model_module": "@jupyter-widgets/base",
      "_model_module_version": "1.2.0",
      "_model_name": "LayoutModel",
      "_view_count": null,
      "_view_module": "@jupyter-widgets/base",
      "_view_module_version": "1.2.0",
      "_view_name": "LayoutView",
      "align_content": null,
      "align_items": null,
      "align_self": null,
      "border": null,
      "bottom": null,
      "display": null,
      "flex": null,
      "flex_flow": null,
      "grid_area": null,
      "grid_auto_columns": null,
      "grid_auto_flow": null,
      "grid_auto_rows": null,
      "grid_column": null,
      "grid_gap": null,
      "grid_row": null,
      "grid_template_areas": null,
      "grid_template_columns": null,
      "grid_template_rows": null,
      "height": null,
      "justify_content": null,
      "justify_items": null,
      "left": null,
      "margin": null,
      "max_height": null,
      "max_width": null,
      "min_height": null,
      "min_width": null,
      "object_fit": null,
      "object_position": null,
      "order": null,
      "overflow": null,
      "overflow_x": null,
      "overflow_y": null,
      "padding": null,
      "right": null,
      "top": null,
      "visibility": null,
      "width": "20px"
     }
    },
    "a0c1151afebb4eac878e45e1e59bade6": {
     "model_module": "@jupyter-widgets/base",
     "model_module_version": "1.2.0",
     "model_name": "LayoutModel",
     "state": {
      "_model_module": "@jupyter-widgets/base",
      "_model_module_version": "1.2.0",
      "_model_name": "LayoutModel",
      "_view_count": null,
      "_view_module": "@jupyter-widgets/base",
      "_view_module_version": "1.2.0",
      "_view_name": "LayoutView",
      "align_content": null,
      "align_items": null,
      "align_self": null,
      "border": null,
      "bottom": null,
      "display": null,
      "flex": null,
      "flex_flow": null,
      "grid_area": null,
      "grid_auto_columns": null,
      "grid_auto_flow": null,
      "grid_auto_rows": null,
      "grid_column": null,
      "grid_gap": null,
      "grid_row": null,
      "grid_template_areas": null,
      "grid_template_columns": null,
      "grid_template_rows": null,
      "height": null,
      "justify_content": null,
      "justify_items": null,
      "left": null,
      "margin": null,
      "max_height": null,
      "max_width": null,
      "min_height": null,
      "min_width": null,
      "object_fit": null,
      "object_position": null,
      "order": null,
      "overflow": null,
      "overflow_x": null,
      "overflow_y": null,
      "padding": null,
      "right": null,
      "top": null,
      "visibility": null,
      "width": null
     }
    },
    "a2b35835975d46a6918f2fa91792e98c": {
     "model_module": "@jupyter-widgets/base",
     "model_module_version": "1.2.0",
     "model_name": "LayoutModel",
     "state": {
      "_model_module": "@jupyter-widgets/base",
      "_model_module_version": "1.2.0",
      "_model_name": "LayoutModel",
      "_view_count": null,
      "_view_module": "@jupyter-widgets/base",
      "_view_module_version": "1.2.0",
      "_view_name": "LayoutView",
      "align_content": null,
      "align_items": null,
      "align_self": null,
      "border": null,
      "bottom": null,
      "display": null,
      "flex": null,
      "flex_flow": null,
      "grid_area": null,
      "grid_auto_columns": null,
      "grid_auto_flow": null,
      "grid_auto_rows": null,
      "grid_column": null,
      "grid_gap": null,
      "grid_row": null,
      "grid_template_areas": null,
      "grid_template_columns": null,
      "grid_template_rows": null,
      "height": null,
      "justify_content": null,
      "justify_items": null,
      "left": null,
      "margin": null,
      "max_height": null,
      "max_width": null,
      "min_height": null,
      "min_width": null,
      "object_fit": null,
      "object_position": null,
      "order": null,
      "overflow": null,
      "overflow_x": null,
      "overflow_y": null,
      "padding": null,
      "right": null,
      "top": null,
      "visibility": null,
      "width": null
     }
    },
    "a4b50fff6dbd4ee2b739596fdcabefb1": {
     "model_module": "@jupyter-widgets/controls",
     "model_module_version": "1.5.0",
     "model_name": "HTMLModel",
     "state": {
      "_dom_classes": [],
      "_model_module": "@jupyter-widgets/controls",
      "_model_module_version": "1.5.0",
      "_model_name": "HTMLModel",
      "_view_count": null,
      "_view_module": "@jupyter-widgets/controls",
      "_view_module_version": "1.5.0",
      "_view_name": "HTMLView",
      "description": "",
      "description_tooltip": null,
      "layout": "IPY_MODEL_91bc20e02b9a4d5a9ca70229addcb176",
      "placeholder": "​",
      "style": "IPY_MODEL_dacff699054948b880c6f474b79c45ab",
      "value": ""
     }
    },
    "ad931a41006b466ebc3d956459a69b3f": {
     "model_module": "@jupyter-widgets/controls",
     "model_module_version": "1.5.0",
     "model_name": "HTMLModel",
     "state": {
      "_dom_classes": [],
      "_model_module": "@jupyter-widgets/controls",
      "_model_module_version": "1.5.0",
      "_model_name": "HTMLModel",
      "_view_count": null,
      "_view_module": "@jupyter-widgets/controls",
      "_view_module_version": "1.5.0",
      "_view_name": "HTMLView",
      "description": "",
      "description_tooltip": null,
      "layout": "IPY_MODEL_19a5a8e2e2174b4b9e85794beb7d80bb",
      "placeholder": "​",
      "style": "IPY_MODEL_6e9416bd8f0b478bbe7fa45d411ea693",
      "value": " 526M/526M [00:22&lt;00:00, 64.7MB/s]"
     }
    },
    "bc63860a30e34fec9dd5bdca2be5bc12": {
     "model_module": "@jupyter-widgets/base",
     "model_module_version": "1.2.0",
     "model_name": "LayoutModel",
     "state": {
      "_model_module": "@jupyter-widgets/base",
      "_model_module_version": "1.2.0",
      "_model_name": "LayoutModel",
      "_view_count": null,
      "_view_module": "@jupyter-widgets/base",
      "_view_module_version": "1.2.0",
      "_view_name": "LayoutView",
      "align_content": null,
      "align_items": null,
      "align_self": null,
      "border": null,
      "bottom": null,
      "display": null,
      "flex": null,
      "flex_flow": null,
      "grid_area": null,
      "grid_auto_columns": null,
      "grid_auto_flow": null,
      "grid_auto_rows": null,
      "grid_column": null,
      "grid_gap": null,
      "grid_row": null,
      "grid_template_areas": null,
      "grid_template_columns": null,
      "grid_template_rows": null,
      "height": null,
      "justify_content": null,
      "justify_items": null,
      "left": null,
      "margin": null,
      "max_height": null,
      "max_width": null,
      "min_height": null,
      "min_width": null,
      "object_fit": null,
      "object_position": null,
      "order": null,
      "overflow": null,
      "overflow_x": null,
      "overflow_y": null,
      "padding": null,
      "right": null,
      "top": null,
      "visibility": null,
      "width": null
     }
    },
    "bd0dd4ad223440819f6e3eeb3abbbe6a": {
     "model_module": "@jupyter-widgets/base",
     "model_module_version": "1.2.0",
     "model_name": "LayoutModel",
     "state": {
      "_model_module": "@jupyter-widgets/base",
      "_model_module_version": "1.2.0",
      "_model_name": "LayoutModel",
      "_view_count": null,
      "_view_module": "@jupyter-widgets/base",
      "_view_module_version": "1.2.0",
      "_view_name": "LayoutView",
      "align_content": null,
      "align_items": null,
      "align_self": null,
      "border": null,
      "bottom": null,
      "display": null,
      "flex": null,
      "flex_flow": null,
      "grid_area": null,
      "grid_auto_columns": null,
      "grid_auto_flow": null,
      "grid_auto_rows": null,
      "grid_column": null,
      "grid_gap": null,
      "grid_row": null,
      "grid_template_areas": null,
      "grid_template_columns": null,
      "grid_template_rows": null,
      "height": null,
      "justify_content": null,
      "justify_items": null,
      "left": null,
      "margin": null,
      "max_height": null,
      "max_width": null,
      "min_height": null,
      "min_width": null,
      "object_fit": null,
      "object_position": null,
      "order": null,
      "overflow": null,
      "overflow_x": null,
      "overflow_y": null,
      "padding": null,
      "right": null,
      "top": null,
      "visibility": null,
      "width": null
     }
    },
    "be05e29d0d4740b1a0931ddea24c0047": {
     "model_module": "@jupyter-widgets/controls",
     "model_module_version": "1.5.0",
     "model_name": "HBoxModel",
     "state": {
      "_dom_classes": [],
      "_model_module": "@jupyter-widgets/controls",
      "_model_module_version": "1.5.0",
      "_model_name": "HBoxModel",
      "_view_count": null,
      "_view_module": "@jupyter-widgets/controls",
      "_view_module_version": "1.5.0",
      "_view_name": "HBoxView",
      "box_style": "",
      "children": [
       "IPY_MODEL_410be7ceee224ab4994c922e461c6cbf",
       "IPY_MODEL_0444eedd16184c2ea8aae0e0d7f24559",
       "IPY_MODEL_64a1b1a7ee8c48b1b6ea84d2e0af2400"
      ],
      "layout": "IPY_MODEL_c1fb8947f62442c8a149ec2431e5f961"
     }
    },
    "c003f5d964724830bbc4740e6021bacf": {
     "model_module": "@jupyter-widgets/base",
     "model_module_version": "1.2.0",
     "model_name": "LayoutModel",
     "state": {
      "_model_module": "@jupyter-widgets/base",
      "_model_module_version": "1.2.0",
      "_model_name": "LayoutModel",
      "_view_count": null,
      "_view_module": "@jupyter-widgets/base",
      "_view_module_version": "1.2.0",
      "_view_name": "LayoutView",
      "align_content": null,
      "align_items": null,
      "align_self": null,
      "border": null,
      "bottom": null,
      "display": null,
      "flex": null,
      "flex_flow": null,
      "grid_area": null,
      "grid_auto_columns": null,
      "grid_auto_flow": null,
      "grid_auto_rows": null,
      "grid_column": null,
      "grid_gap": null,
      "grid_row": null,
      "grid_template_areas": null,
      "grid_template_columns": null,
      "grid_template_rows": null,
      "height": null,
      "justify_content": null,
      "justify_items": null,
      "left": null,
      "margin": null,
      "max_height": null,
      "max_width": null,
      "min_height": null,
      "min_width": null,
      "object_fit": null,
      "object_position": null,
      "order": null,
      "overflow": null,
      "overflow_x": null,
      "overflow_y": null,
      "padding": null,
      "right": null,
      "top": null,
      "visibility": null,
      "width": null
     }
    },
    "c1fb8947f62442c8a149ec2431e5f961": {
     "model_module": "@jupyter-widgets/base",
     "model_module_version": "1.2.0",
     "model_name": "LayoutModel",
     "state": {
      "_model_module": "@jupyter-widgets/base",
      "_model_module_version": "1.2.0",
      "_model_name": "LayoutModel",
      "_view_count": null,
      "_view_module": "@jupyter-widgets/base",
      "_view_module_version": "1.2.0",
      "_view_name": "LayoutView",
      "align_content": null,
      "align_items": null,
      "align_self": null,
      "border": null,
      "bottom": null,
      "display": null,
      "flex": null,
      "flex_flow": null,
      "grid_area": null,
      "grid_auto_columns": null,
      "grid_auto_flow": null,
      "grid_auto_rows": null,
      "grid_column": null,
      "grid_gap": null,
      "grid_row": null,
      "grid_template_areas": null,
      "grid_template_columns": null,
      "grid_template_rows": null,
      "height": null,
      "justify_content": null,
      "justify_items": null,
      "left": null,
      "margin": null,
      "max_height": null,
      "max_width": null,
      "min_height": null,
      "min_width": null,
      "object_fit": null,
      "object_position": null,
      "order": null,
      "overflow": null,
      "overflow_x": null,
      "overflow_y": null,
      "padding": null,
      "right": null,
      "top": null,
      "visibility": null,
      "width": null
     }
    },
    "cdd0fc76dfae48bbac646ed7a4011bdb": {
     "model_module": "@jupyter-widgets/controls",
     "model_module_version": "1.5.0",
     "model_name": "HTMLModel",
     "state": {
      "_dom_classes": [],
      "_model_module": "@jupyter-widgets/controls",
      "_model_module_version": "1.5.0",
      "_model_name": "HTMLModel",
      "_view_count": null,
      "_view_module": "@jupyter-widgets/controls",
      "_view_module_version": "1.5.0",
      "_view_name": "HTMLView",
      "description": "",
      "description_tooltip": null,
      "layout": "IPY_MODEL_2e2b32f7f1fd4fb299876f1a9ea61adc",
      "placeholder": "​",
      "style": "IPY_MODEL_0fe0e97fc2a74041805a6b343873ca58",
      "value": ""
     }
    },
    "d82786e385154964a9f4086e33d533b9": {
     "model_module": "@jupyter-widgets/base",
     "model_module_version": "1.2.0",
     "model_name": "LayoutModel",
     "state": {
      "_model_module": "@jupyter-widgets/base",
      "_model_module_version": "1.2.0",
      "_model_name": "LayoutModel",
      "_view_count": null,
      "_view_module": "@jupyter-widgets/base",
      "_view_module_version": "1.2.0",
      "_view_name": "LayoutView",
      "align_content": null,
      "align_items": null,
      "align_self": null,
      "border": null,
      "bottom": null,
      "display": null,
      "flex": null,
      "flex_flow": null,
      "grid_area": null,
      "grid_auto_columns": null,
      "grid_auto_flow": null,
      "grid_auto_rows": null,
      "grid_column": null,
      "grid_gap": null,
      "grid_row": null,
      "grid_template_areas": null,
      "grid_template_columns": null,
      "grid_template_rows": null,
      "height": null,
      "justify_content": null,
      "justify_items": null,
      "left": null,
      "margin": null,
      "max_height": null,
      "max_width": null,
      "min_height": null,
      "min_width": null,
      "object_fit": null,
      "object_position": null,
      "order": null,
      "overflow": null,
      "overflow_x": null,
      "overflow_y": null,
      "padding": null,
      "right": null,
      "top": null,
      "visibility": null,
      "width": "20px"
     }
    },
    "dacff699054948b880c6f474b79c45ab": {
     "model_module": "@jupyter-widgets/controls",
     "model_module_version": "1.5.0",
     "model_name": "DescriptionStyleModel",
     "state": {
      "_model_module": "@jupyter-widgets/controls",
      "_model_module_version": "1.5.0",
      "_model_name": "DescriptionStyleModel",
      "_view_count": null,
      "_view_module": "@jupyter-widgets/base",
      "_view_module_version": "1.2.0",
      "_view_name": "StyleView",
      "description_width": ""
     }
    },
    "dbb7742ed97c4ef8978ce1c36b39ada1": {
     "model_module": "@jupyter-widgets/base",
     "model_module_version": "1.2.0",
     "model_name": "LayoutModel",
     "state": {
      "_model_module": "@jupyter-widgets/base",
      "_model_module_version": "1.2.0",
      "_model_name": "LayoutModel",
      "_view_count": null,
      "_view_module": "@jupyter-widgets/base",
      "_view_module_version": "1.2.0",
      "_view_name": "LayoutView",
      "align_content": null,
      "align_items": null,
      "align_self": null,
      "border": null,
      "bottom": null,
      "display": null,
      "flex": null,
      "flex_flow": null,
      "grid_area": null,
      "grid_auto_columns": null,
      "grid_auto_flow": null,
      "grid_auto_rows": null,
      "grid_column": null,
      "grid_gap": null,
      "grid_row": null,
      "grid_template_areas": null,
      "grid_template_columns": null,
      "grid_template_rows": null,
      "height": null,
      "justify_content": null,
      "justify_items": null,
      "left": null,
      "margin": null,
      "max_height": null,
      "max_width": null,
      "min_height": null,
      "min_width": null,
      "object_fit": null,
      "object_position": null,
      "order": null,
      "overflow": null,
      "overflow_x": null,
      "overflow_y": null,
      "padding": null,
      "right": null,
      "top": null,
      "visibility": null,
      "width": null
     }
    },
    "de5333141b2a4c709888f9011bf59cca": {
     "model_module": "@jupyter-widgets/base",
     "model_module_version": "1.2.0",
     "model_name": "LayoutModel",
     "state": {
      "_model_module": "@jupyter-widgets/base",
      "_model_module_version": "1.2.0",
      "_model_name": "LayoutModel",
      "_view_count": null,
      "_view_module": "@jupyter-widgets/base",
      "_view_module_version": "1.2.0",
      "_view_name": "LayoutView",
      "align_content": null,
      "align_items": null,
      "align_self": null,
      "border": null,
      "bottom": null,
      "display": null,
      "flex": null,
      "flex_flow": null,
      "grid_area": null,
      "grid_auto_columns": null,
      "grid_auto_flow": null,
      "grid_auto_rows": null,
      "grid_column": null,
      "grid_gap": null,
      "grid_row": null,
      "grid_template_areas": null,
      "grid_template_columns": null,
      "grid_template_rows": null,
      "height": null,
      "justify_content": null,
      "justify_items": null,
      "left": null,
      "margin": null,
      "max_height": null,
      "max_width": null,
      "min_height": null,
      "min_width": null,
      "object_fit": null,
      "object_position": null,
      "order": null,
      "overflow": null,
      "overflow_x": null,
      "overflow_y": null,
      "padding": null,
      "right": null,
      "top": null,
      "visibility": null,
      "width": null
     }
    },
    "df5071d2172d4b4cb9a85b7fb6d2d875": {
     "model_module": "@jupyter-widgets/controls",
     "model_module_version": "1.5.0",
     "model_name": "DescriptionStyleModel",
     "state": {
      "_model_module": "@jupyter-widgets/controls",
      "_model_module_version": "1.5.0",
      "_model_name": "DescriptionStyleModel",
      "_view_count": null,
      "_view_module": "@jupyter-widgets/base",
      "_view_module_version": "1.2.0",
      "_view_name": "StyleView",
      "description_width": ""
     }
    },
    "e36785443bf04db185455473db358ad0": {
     "model_module": "@jupyter-widgets/base",
     "model_module_version": "1.2.0",
     "model_name": "LayoutModel",
     "state": {
      "_model_module": "@jupyter-widgets/base",
      "_model_module_version": "1.2.0",
      "_model_name": "LayoutModel",
      "_view_count": null,
      "_view_module": "@jupyter-widgets/base",
      "_view_module_version": "1.2.0",
      "_view_name": "LayoutView",
      "align_content": null,
      "align_items": null,
      "align_self": null,
      "border": null,
      "bottom": null,
      "display": null,
      "flex": null,
      "flex_flow": null,
      "grid_area": null,
      "grid_auto_columns": null,
      "grid_auto_flow": null,
      "grid_auto_rows": null,
      "grid_column": null,
      "grid_gap": null,
      "grid_row": null,
      "grid_template_areas": null,
      "grid_template_columns": null,
      "grid_template_rows": null,
      "height": null,
      "justify_content": null,
      "justify_items": null,
      "left": null,
      "margin": null,
      "max_height": null,
      "max_width": null,
      "min_height": null,
      "min_width": null,
      "object_fit": null,
      "object_position": null,
      "order": null,
      "overflow": null,
      "overflow_x": null,
      "overflow_y": null,
      "padding": null,
      "right": null,
      "top": null,
      "visibility": null,
      "width": null
     }
    },
    "ee70cceceaea4680aa7a55d5b6df68d6": {
     "model_module": "@jupyter-widgets/controls",
     "model_module_version": "1.5.0",
     "model_name": "DescriptionStyleModel",
     "state": {
      "_model_module": "@jupyter-widgets/controls",
      "_model_module_version": "1.5.0",
      "_model_name": "DescriptionStyleModel",
      "_view_count": null,
      "_view_module": "@jupyter-widgets/base",
      "_view_module_version": "1.2.0",
      "_view_name": "StyleView",
      "description_width": ""
     }
    },
    "ef93a5dabb554736b22b53e613269e96": {
     "model_module": "@jupyter-widgets/controls",
     "model_module_version": "1.5.0",
     "model_name": "HTMLModel",
     "state": {
      "_dom_classes": [],
      "_model_module": "@jupyter-widgets/controls",
      "_model_module_version": "1.5.0",
      "_model_name": "HTMLModel",
      "_view_count": null,
      "_view_module": "@jupyter-widgets/controls",
      "_view_module_version": "1.5.0",
      "_view_name": "HTMLView",
      "description": "",
      "description_tooltip": null,
      "layout": "IPY_MODEL_53536a91d717481680ea5d73508dce46",
      "placeholder": "​",
      "style": "IPY_MODEL_3471913e941b40d1946f40f4830b3733",
      "value": " 500000/? [36:37&lt;00:00, 254.05it/s]"
     }
    },
    "f2322dc0bda64b2a997e0b7cfa69bdf5": {
     "model_module": "@jupyter-widgets/base",
     "model_module_version": "1.2.0",
     "model_name": "LayoutModel",
     "state": {
      "_model_module": "@jupyter-widgets/base",
      "_model_module_version": "1.2.0",
      "_model_name": "LayoutModel",
      "_view_count": null,
      "_view_module": "@jupyter-widgets/base",
      "_view_module_version": "1.2.0",
      "_view_name": "LayoutView",
      "align_content": null,
      "align_items": null,
      "align_self": null,
      "border": null,
      "bottom": null,
      "display": null,
      "flex": null,
      "flex_flow": null,
      "grid_area": null,
      "grid_auto_columns": null,
      "grid_auto_flow": null,
      "grid_auto_rows": null,
      "grid_column": null,
      "grid_gap": null,
      "grid_row": null,
      "grid_template_areas": null,
      "grid_template_columns": null,
      "grid_template_rows": null,
      "height": null,
      "justify_content": null,
      "justify_items": null,
      "left": null,
      "margin": null,
      "max_height": null,
      "max_width": null,
      "min_height": null,
      "min_width": null,
      "object_fit": null,
      "object_position": null,
      "order": null,
      "overflow": null,
      "overflow_x": null,
      "overflow_y": null,
      "padding": null,
      "right": null,
      "top": null,
      "visibility": null,
      "width": null
     }
    },
    "f5cd1092c4b54fe781fef419eaa65cb6": {
     "model_module": "@jupyter-widgets/controls",
     "model_module_version": "1.5.0",
     "model_name": "HBoxModel",
     "state": {
      "_dom_classes": [],
      "_model_module": "@jupyter-widgets/controls",
      "_model_module_version": "1.5.0",
      "_model_name": "HBoxModel",
      "_view_count": null,
      "_view_module": "@jupyter-widgets/controls",
      "_view_module_version": "1.5.0",
      "_view_name": "HBoxView",
      "box_style": "",
      "children": [
       "IPY_MODEL_8d0dcfea1d0440ce8772e24dd8ee956e",
       "IPY_MODEL_02c13d42b21e4842a907c2a832817828",
       "IPY_MODEL_8d61ed06de1547f5b59d67e09e28f86a"
      ],
      "layout": "IPY_MODEL_de5333141b2a4c709888f9011bf59cca"
     }
    },
    "f9f2553352ca4dbbab399d28a6af6809": {
     "model_module": "@jupyter-widgets/base",
     "model_module_version": "1.2.0",
     "model_name": "LayoutModel",
     "state": {
      "_model_module": "@jupyter-widgets/base",
      "_model_module_version": "1.2.0",
      "_model_name": "LayoutModel",
      "_view_count": null,
      "_view_module": "@jupyter-widgets/base",
      "_view_module_version": "1.2.0",
      "_view_name": "LayoutView",
      "align_content": null,
      "align_items": null,
      "align_self": null,
      "border": null,
      "bottom": null,
      "display": null,
      "flex": null,
      "flex_flow": null,
      "grid_area": null,
      "grid_auto_columns": null,
      "grid_auto_flow": null,
      "grid_auto_rows": null,
      "grid_column": null,
      "grid_gap": null,
      "grid_row": null,
      "grid_template_areas": null,
      "grid_template_columns": null,
      "grid_template_rows": null,
      "height": null,
      "justify_content": null,
      "justify_items": null,
      "left": null,
      "margin": null,
      "max_height": null,
      "max_width": null,
      "min_height": null,
      "min_width": null,
      "object_fit": null,
      "object_position": null,
      "order": null,
      "overflow": null,
      "overflow_x": null,
      "overflow_y": null,
      "padding": null,
      "right": null,
      "top": null,
      "visibility": null,
      "width": null
     }
    },
    "fff7ae190ae040d3a09f2a54463dd631": {
     "model_module": "@jupyter-widgets/base",
     "model_module_version": "1.2.0",
     "model_name": "LayoutModel",
     "state": {
      "_model_module": "@jupyter-widgets/base",
      "_model_module_version": "1.2.0",
      "_model_name": "LayoutModel",
      "_view_count": null,
      "_view_module": "@jupyter-widgets/base",
      "_view_module_version": "1.2.0",
      "_view_name": "LayoutView",
      "align_content": null,
      "align_items": null,
      "align_self": null,
      "border": null,
      "bottom": null,
      "display": null,
      "flex": null,
      "flex_flow": null,
      "grid_area": null,
      "grid_auto_columns": null,
      "grid_auto_flow": null,
      "grid_auto_rows": null,
      "grid_column": null,
      "grid_gap": null,
      "grid_row": null,
      "grid_template_areas": null,
      "grid_template_columns": null,
      "grid_template_rows": null,
      "height": null,
      "justify_content": null,
      "justify_items": null,
      "left": null,
      "margin": null,
      "max_height": null,
      "max_width": null,
      "min_height": null,
      "min_width": null,
      "object_fit": null,
      "object_position": null,
      "order": null,
      "overflow": null,
      "overflow_x": null,
      "overflow_y": null,
      "padding": null,
      "right": null,
      "top": null,
      "visibility": null,
      "width": null
     }
    }
   }
  }
 },
 "nbformat": 4,
 "nbformat_minor": 1
}
